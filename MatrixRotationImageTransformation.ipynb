{
 "cells": [
  {
   "cell_type": "code",
   "execution_count": 1,
   "metadata": {},
   "outputs": [
    {
     "name": "stdout",
     "output_type": "stream",
     "text": [
      "IPython version:       7.6.1 (need at least 1.0)\n",
      "Numpy version:        1.16.4 (need at least 1.7.1)\n",
      "SciPy version:         1.2.1 (need at least 0.12.0)\n",
      "Pandas version:       0.24.2 (need at least 0.11.0)\n",
      "Mapltolib version:     3.1.0 (need at least 1.2.1)\n",
      "Scikit-Learn version: 0.21.2 (need at least 0.13.1)\n"
     ]
    }
   ],
   "source": [
    "#IPython is what you are using now to run the notebook\n",
    "import IPython\n",
    "print( \"IPython version:      %6.6s (need at least 1.0)\" % IPython.__version__)\n",
    "\n",
    "# Numpy is a library for working with arrays and matrices\n",
    "import numpy as np\n",
    "print( \"Numpy version:        %6.6s (need at least 1.7.1)\" % np.__version__)\n",
    "\n",
    "# SciPy implements many different numerical algorithms\n",
    "import scipy as sp\n",
    "print( \"SciPy version:        %6.6s (need at least 0.12.0)\" % sp.__version__)\n",
    "\n",
    "# Pandas makes working with data tables easier\n",
    "import pandas as pd\n",
    "print( \"Pandas version:       %6.6s (need at least 0.11.0)\" % pd.__version__)\n",
    "\n",
    "# Module for plotting\n",
    "import matplotlib.pyplot as plt  \n",
    "from pylab import *\n",
    "print( \"Mapltolib version:    %6.6s (need at least 1.2.1)\" %\n",
    "       matplotlib.__version__)\n",
    "%matplotlib inline\n",
    "# necessary for in-line graphics\n",
    "\n",
    "# SciKit Learn implements several Machine Learning algorithms\n",
    "import sklearn\n",
    "print( \"Scikit-Learn version: %6.6s (need at least 0.13.1)\" %\n",
    "       sklearn.__version__)\n",
    "import os\n",
    "# for certain system-related functions"
   ]
  },
  {
   "cell_type": "code",
   "execution_count": 2,
   "metadata": {},
   "outputs": [
    {
     "data": {
      "text/plain": [
       "'\\n1.1 Load data crazy-hat.tsv. Inspect it.\\n'"
      ]
     },
     "execution_count": 2,
     "metadata": {},
     "output_type": "execute_result"
    }
   ],
   "source": [
    "\"\"\"\n",
    "1.1 Load data crazy-hat.tsv. Inspect it.\n",
    "\"\"\""
   ]
  },
  {
   "cell_type": "code",
   "execution_count": 3,
   "metadata": {},
   "outputs": [],
   "source": [
    "#We load the tsv file, tab is seperator\n",
    "crazyhat = pd.read_csv('crazy-hat.tsv',sep=\"\\t\")\n"
   ]
  },
  {
   "cell_type": "code",
   "execution_count": null,
   "metadata": {},
   "outputs": [],
   "source": []
  },
  {
   "cell_type": "code",
   "execution_count": 4,
   "metadata": {},
   "outputs": [],
   "source": [
    "#We convert to a dataframe\n",
    "crazyhat_df = pd.DataFrame(crazyhat)"
   ]
  },
  {
   "cell_type": "code",
   "execution_count": 5,
   "metadata": {},
   "outputs": [
    {
     "data": {
      "text/html": [
       "<div>\n",
       "<style scoped>\n",
       "    .dataframe tbody tr th:only-of-type {\n",
       "        vertical-align: middle;\n",
       "    }\n",
       "\n",
       "    .dataframe tbody tr th {\n",
       "        vertical-align: top;\n",
       "    }\n",
       "\n",
       "    .dataframe thead th {\n",
       "        text-align: right;\n",
       "    }\n",
       "</style>\n",
       "<table border=\"1\" class=\"dataframe\">\n",
       "  <thead>\n",
       "    <tr style=\"text-align: right;\">\n",
       "      <th></th>\n",
       "      <th>x</th>\n",
       "      <th>y</th>\n",
       "      <th>group</th>\n",
       "    </tr>\n",
       "  </thead>\n",
       "  <tbody>\n",
       "    <tr>\n",
       "      <th>0</th>\n",
       "      <td>0</td>\n",
       "      <td>22</td>\n",
       "      <td>outline</td>\n",
       "    </tr>\n",
       "    <tr>\n",
       "      <th>1</th>\n",
       "      <td>16</td>\n",
       "      <td>-18</td>\n",
       "      <td>outline</td>\n",
       "    </tr>\n",
       "    <tr>\n",
       "      <th>2</th>\n",
       "      <td>-16</td>\n",
       "      <td>-18</td>\n",
       "      <td>outline</td>\n",
       "    </tr>\n",
       "    <tr>\n",
       "      <th>3</th>\n",
       "      <td>0</td>\n",
       "      <td>22</td>\n",
       "      <td>outline</td>\n",
       "    </tr>\n",
       "    <tr>\n",
       "      <th>4</th>\n",
       "      <td>-3</td>\n",
       "      <td>7</td>\n",
       "      <td>leye</td>\n",
       "    </tr>\n",
       "    <tr>\n",
       "      <th>5</th>\n",
       "      <td>-3</td>\n",
       "      <td>14</td>\n",
       "      <td>leye</td>\n",
       "    </tr>\n",
       "    <tr>\n",
       "      <th>6</th>\n",
       "      <td>2</td>\n",
       "      <td>7</td>\n",
       "      <td>reye</td>\n",
       "    </tr>\n",
       "    <tr>\n",
       "      <th>7</th>\n",
       "      <td>2</td>\n",
       "      <td>14</td>\n",
       "      <td>reye</td>\n",
       "    </tr>\n",
       "    <tr>\n",
       "      <th>8</th>\n",
       "      <td>-11</td>\n",
       "      <td>-10</td>\n",
       "      <td>mouth</td>\n",
       "    </tr>\n",
       "    <tr>\n",
       "      <th>9</th>\n",
       "      <td>-7</td>\n",
       "      <td>-17</td>\n",
       "      <td>mouth</td>\n",
       "    </tr>\n",
       "    <tr>\n",
       "      <th>10</th>\n",
       "      <td>-3</td>\n",
       "      <td>-10</td>\n",
       "      <td>mouth</td>\n",
       "    </tr>\n",
       "    <tr>\n",
       "      <th>11</th>\n",
       "      <td>2</td>\n",
       "      <td>-17</td>\n",
       "      <td>mouth</td>\n",
       "    </tr>\n",
       "    <tr>\n",
       "      <th>12</th>\n",
       "      <td>6</td>\n",
       "      <td>-10</td>\n",
       "      <td>mouth</td>\n",
       "    </tr>\n",
       "    <tr>\n",
       "      <th>13</th>\n",
       "      <td>10</td>\n",
       "      <td>-17</td>\n",
       "      <td>mouth</td>\n",
       "    </tr>\n",
       "    <tr>\n",
       "      <th>14</th>\n",
       "      <td>12</td>\n",
       "      <td>-13</td>\n",
       "      <td>mouth</td>\n",
       "    </tr>\n",
       "  </tbody>\n",
       "</table>\n",
       "</div>"
      ],
      "text/plain": [
       "     x   y    group\n",
       "0    0  22  outline\n",
       "1   16 -18  outline\n",
       "2  -16 -18  outline\n",
       "3    0  22  outline\n",
       "4   -3   7     leye\n",
       "5   -3  14     leye\n",
       "6    2   7     reye\n",
       "7    2  14     reye\n",
       "8  -11 -10    mouth\n",
       "9   -7 -17    mouth\n",
       "10  -3 -10    mouth\n",
       "11   2 -17    mouth\n",
       "12   6 -10    mouth\n",
       "13  10 -17    mouth\n",
       "14  12 -13    mouth"
      ]
     },
     "execution_count": 5,
     "metadata": {},
     "output_type": "execute_result"
    }
   ],
   "source": [
    "crazyhat_df"
   ]
  },
  {
   "cell_type": "code",
   "execution_count": 6,
   "metadata": {},
   "outputs": [
    {
     "data": {
      "text/plain": [
       "'\\nThere are 14 rows and 3 columns. The columns x ad y tell the x and y coordinates. The column group tells outline, left eye, right eye, mouth.\\n'"
      ]
     },
     "execution_count": 6,
     "metadata": {},
     "output_type": "execute_result"
    }
   ],
   "source": [
    "\"\"\"\n",
    "There are 14 rows and 3 columns. The columns x ad y tell the x and y coordinates. The column group tells outline, left eye, right eye, mouth.\n",
    "\"\"\""
   ]
  },
  {
   "cell_type": "code",
   "execution_count": 7,
   "metadata": {},
   "outputs": [
    {
     "data": {
      "text/plain": [
       "'1.2 Plot Crazy Hat (no rotation here).\\n'"
      ]
     },
     "execution_count": 7,
     "metadata": {},
     "output_type": "execute_result"
    }
   ],
   "source": [
    "\"\"\"1.2 Plot Crazy Hat (no rotation here).\n",
    "\"\"\""
   ]
  },
  {
   "cell_type": "code",
   "execution_count": 8,
   "metadata": {},
   "outputs": [],
   "source": [
    "#making a dictionary of colours\n",
    "colors_dict = {\"outline\":\"black\", \"leye\":\"brown\", \"reye\":\"brown\", \"mouth\":\"red\"}\n",
    "\n",
    "#making a dictionary of width\n",
    "linewidth_dict= {\"outline\":2, \"leye\":2, \"reye\":2, \"mouth\":4}"
   ]
  },
  {
   "cell_type": "code",
   "execution_count": 9,
   "metadata": {},
   "outputs": [
    {
     "data": {
      "text/plain": [
       "'I would create a function that would do everything\\n'"
      ]
     },
     "execution_count": 9,
     "metadata": {},
     "output_type": "execute_result"
    }
   ],
   "source": [
    "\"\"\"I would create a function that would do everything\n",
    "\"\"\""
   ]
  },
  {
   "cell_type": "code",
   "execution_count": 10,
   "metadata": {},
   "outputs": [],
   "source": [
    "#function for drawing crazy hat\n",
    "\"\"\"\n",
    "This function takes in 4 arguments- dataframe of x and y cordinates of hat, dictionary of colours, dictionary of linewidth, angle to rotate in degree\n",
    "\"\"\"\n",
    "def draw_crazyhat(crazyhat_df, colors_dictionary, linewidth_dictionary,angle):\n",
    "    \n",
    "    #creating the rotation matrix\n",
    "    theta = np.radians(angle)\n",
    "    c = np.cos(theta)\n",
    "    s = np.sin(theta)\n",
    "    R = np.array(((c,-s), (s, c)))\n",
    "        #plotting the image\n",
    "    \n",
    "    fig = plt.figure()\n",
    "    ax = fig.add_subplot(1,1,1)\n",
    "    ax.set_aspect('equal')\n",
    "    \n",
    "    #plotting the outline\n",
    "    Outline = crazyhat_df[crazyhat_df[\"group\"] ==\"outline\"]\n",
    "    Outline = Outline.iloc[:,0:2]\n",
    "    O = Outline @ R\n",
    "    ax.plot(O.iloc[:,0],O.iloc[:,1],c=colors_dictionary[\"outline\"],linewidth = linewidth_dictionary[\"outline\"])\n",
    "    \n",
    "     #plotting the Lefteye\n",
    "    Lefteye = crazyhat_df[crazyhat_df[\"group\"] ==\"leye\"]\n",
    "    Lefteye = Lefteye.iloc[:,0:2]\n",
    "    Le = Lefteye @ R\n",
    "    ax.plot(Le.iloc[:,0],Le.iloc[:,1],c=colors_dictionary[\"leye\"],linewidth = linewidth_dictionary[\"leye\"])\n",
    "    \n",
    "    #plotting the Righteye\n",
    "    Righteye = crazyhat_df[crazyhat_df[\"group\"] ==\"reye\"]\n",
    "    Righteye = Righteye.iloc[:,0:2]\n",
    "    Re = Righteye @ R\n",
    "    ax.plot(Re.iloc[:,0],Re.iloc[:,1],c=colors_dictionary[\"reye\"],linewidth = linewidth_dictionary[\"reye\"])\n",
    "    \n",
    "    #plotting the Mouth\n",
    "    Mouth = crazyhat_df[crazyhat_df[\"group\"] ==\"mouth\"]\n",
    "    Mouth = Mouth.iloc[:,0:2]\n",
    "    M = Mouth @ R\n",
    "    ax.plot(M.iloc[:,0],M.iloc[:,1],c=colors_dictionary[\"mouth\"],linewidth = linewidth_dictionary[\"mouth\"])\n",
    "    plt.show()\n",
    "    \n",
    "    \n",
    "   \n",
    "\n"
   ]
  },
  {
   "cell_type": "code",
   "execution_count": 11,
   "metadata": {},
   "outputs": [
    {
     "data": {
      "image/png": "[encoded data removed]",
      "text/plain": [
       "<Figure size 432x288 with 1 Axes>"
      ]
     },
     "metadata": {
      "needs_background": "light"
     },
     "output_type": "display_data"
    }
   ],
   "source": [
    "#rotationg through 0 degree. We call the draw crazy hat function, and the parameters passed are x and y cordinates of hat, dictionary of colours, dictionary of linewidth and angle 0 degree\n",
    "draw_crazyhat(crazyhat_df, colors_dict, linewidth_dict,0)"
   ]
  },
  {
   "cell_type": "code",
   "execution_count": 12,
   "metadata": {},
   "outputs": [
    {
     "data": {
      "text/plain": [
       "'1.3 Now rotate Crazy hat 66 degree counterclockwise (and plot it).\\n'"
      ]
     },
     "execution_count": 12,
     "metadata": {},
     "output_type": "execute_result"
    }
   ],
   "source": [
    "\"\"\"1.3 Now rotate Crazy hat 66 degree counterclockwise (and plot it).\n",
    "\"\"\""
   ]
  },
  {
   "cell_type": "code",
   "execution_count": 13,
   "metadata": {},
   "outputs": [
    {
     "data": {
      "image/png": "[encoded data removed]",
      "text/plain": [
       "<Figure size 432x288 with 1 Axes>"
      ]
     },
     "metadata": {
      "needs_background": "light"
     },
     "output_type": "display_data"
    }
   ],
   "source": [
    "#rotationg through 0 degree. We call the draw crazy hat function, and the parameters passed are x and y cordinates of hat, dictionary of colours, dictionary of linewidth and angle -66 degree\n",
    "draw_crazyhat(crazyhat_df, colors_dict, linewidth_dict,-66)"
   ]
  },
  {
   "cell_type": "code",
   "execution_count": 14,
   "metadata": {},
   "outputs": [
    {
     "name": "stderr",
     "output_type": "stream",
     "text": [
      "C:\\ProgramData\\Anaconda3\\lib\\site-packages\\IPython\\core\\inputtransformer2.py:481: UserWarning: `make_tokens_by_line` received a list of lines which do not have lineending markers ('\\n', '\\r', '\\r\\n', '\\x0b', '\\x0c'), behavior will be unspecified\n",
      "  warnings.warn(\"`make_tokens_by_line` received a list of lines which do not have lineending markers ('\\\\n', '\\\\r', '\\\\r\\\\n', '\\\\x0b', '\\\\x0c'), behavior will be unspecified\")\n"
     ]
    },
    {
     "data": {
      "text/plain": [
       "'2.1 Construct the \\x10\\x1dip-x\\x11 matrix Fx that \\x1dips (mirrors) the image\\non y axis.\\n'"
      ]
     },
     "execution_count": 14,
     "metadata": {},
     "output_type": "execute_result"
    }
   ],
   "source": [
    "\"\"\"2.1 Construct the \u0010\u001d",
    "ip-x\u0011 matrix Fx that \u001d",
    "ips (mirrors) the image\n",
    "on y axis.\n",
    "\"\"\""
   ]
  },
  {
   "cell_type": "code",
   "execution_count": 15,
   "metadata": {},
   "outputs": [
    {
     "data": {
      "text/plain": [
       "array([[-1,  0],\n",
       "       [ 0,  1]])"
      ]
     },
     "execution_count": 15,
     "metadata": {},
     "output_type": "execute_result"
    }
   ],
   "source": [
    "#We want to get mirror image around the Y axis. so we want the Y coorsdinates untouched, and change the sign of the X coordinates\n",
    "Fx = np.array([[-1,0],[0,1]])\n",
    "Fx"
   ]
  },
  {
   "cell_type": "code",
   "execution_count": 16,
   "metadata": {},
   "outputs": [],
   "source": [
    "#I am taking mirror image of the inverse 1 that we did in the lab\n",
    "A = np.array([[0,0],[0,2],[1,1]])"
   ]
  },
  {
   "cell_type": "code",
   "execution_count": 17,
   "metadata": {},
   "outputs": [
    {
     "data": {
      "text/plain": [
       "[<matplotlib.lines.Line2D at 0x278e4727710>]"
      ]
     },
     "execution_count": 17,
     "metadata": {},
     "output_type": "execute_result"
    },
    {
     "data": {
      "image/png": "[encoded data removed]",
      "text/plain": [
       "<Figure size 432x288 with 1 Axes>"
      ]
     },
     "metadata": {
      "needs_background": "light"
     },
     "output_type": "display_data"
    }
   ],
   "source": [
    "plt.axes().set_aspect('equal')\n",
    "plt.plot(A[:,0], A[:,1])"
   ]
  },
  {
   "cell_type": "code",
   "execution_count": 18,
   "metadata": {},
   "outputs": [],
   "source": [
    "FA = A@Fx"
   ]
  },
  {
   "cell_type": "code",
   "execution_count": 19,
   "metadata": {},
   "outputs": [
    {
     "data": {
      "text/plain": [
       "[<matplotlib.lines.Line2D at 0x278e4765898>]"
      ]
     },
     "execution_count": 19,
     "metadata": {},
     "output_type": "execute_result"
    },
    {
     "data": {
      "image/png": "[encoded data removed]",
      "text/plain": [
       "<Figure size 432x288 with 1 Axes>"
      ]
     },
     "metadata": {
      "needs_background": "light"
     },
     "output_type": "display_data"
    }
   ],
   "source": [
    "#gettuing mirror image about the Y axis\n",
    "plt.axes().set_aspect('equal')\n",
    "plt.plot(FA[:,0], FA[:,1])"
   ]
  },
  {
   "cell_type": "code",
   "execution_count": 20,
   "metadata": {},
   "outputs": [
    {
     "data": {
      "text/html": [
       "<div>\n",
       "<style scoped>\n",
       "    .dataframe tbody tr th:only-of-type {\n",
       "        vertical-align: middle;\n",
       "    }\n",
       "\n",
       "    .dataframe tbody tr th {\n",
       "        vertical-align: top;\n",
       "    }\n",
       "\n",
       "    .dataframe thead th {\n",
       "        text-align: right;\n",
       "    }\n",
       "</style>\n",
       "<table border=\"1\" class=\"dataframe\">\n",
       "  <thead>\n",
       "    <tr style=\"text-align: right;\">\n",
       "      <th></th>\n",
       "      <th>x</th>\n",
       "      <th>y</th>\n",
       "      <th>group</th>\n",
       "    </tr>\n",
       "  </thead>\n",
       "  <tbody>\n",
       "    <tr>\n",
       "      <th>0</th>\n",
       "      <td>0</td>\n",
       "      <td>22</td>\n",
       "      <td>outline</td>\n",
       "    </tr>\n",
       "    <tr>\n",
       "      <th>1</th>\n",
       "      <td>16</td>\n",
       "      <td>-18</td>\n",
       "      <td>outline</td>\n",
       "    </tr>\n",
       "    <tr>\n",
       "      <th>2</th>\n",
       "      <td>-16</td>\n",
       "      <td>-18</td>\n",
       "      <td>outline</td>\n",
       "    </tr>\n",
       "    <tr>\n",
       "      <th>3</th>\n",
       "      <td>0</td>\n",
       "      <td>22</td>\n",
       "      <td>outline</td>\n",
       "    </tr>\n",
       "    <tr>\n",
       "      <th>4</th>\n",
       "      <td>-3</td>\n",
       "      <td>7</td>\n",
       "      <td>leye</td>\n",
       "    </tr>\n",
       "    <tr>\n",
       "      <th>5</th>\n",
       "      <td>-3</td>\n",
       "      <td>14</td>\n",
       "      <td>leye</td>\n",
       "    </tr>\n",
       "    <tr>\n",
       "      <th>6</th>\n",
       "      <td>2</td>\n",
       "      <td>7</td>\n",
       "      <td>reye</td>\n",
       "    </tr>\n",
       "    <tr>\n",
       "      <th>7</th>\n",
       "      <td>2</td>\n",
       "      <td>14</td>\n",
       "      <td>reye</td>\n",
       "    </tr>\n",
       "    <tr>\n",
       "      <th>8</th>\n",
       "      <td>-11</td>\n",
       "      <td>-10</td>\n",
       "      <td>mouth</td>\n",
       "    </tr>\n",
       "    <tr>\n",
       "      <th>9</th>\n",
       "      <td>-7</td>\n",
       "      <td>-17</td>\n",
       "      <td>mouth</td>\n",
       "    </tr>\n",
       "    <tr>\n",
       "      <th>10</th>\n",
       "      <td>-3</td>\n",
       "      <td>-10</td>\n",
       "      <td>mouth</td>\n",
       "    </tr>\n",
       "    <tr>\n",
       "      <th>11</th>\n",
       "      <td>2</td>\n",
       "      <td>-17</td>\n",
       "      <td>mouth</td>\n",
       "    </tr>\n",
       "    <tr>\n",
       "      <th>12</th>\n",
       "      <td>6</td>\n",
       "      <td>-10</td>\n",
       "      <td>mouth</td>\n",
       "    </tr>\n",
       "    <tr>\n",
       "      <th>13</th>\n",
       "      <td>10</td>\n",
       "      <td>-17</td>\n",
       "      <td>mouth</td>\n",
       "    </tr>\n",
       "    <tr>\n",
       "      <th>14</th>\n",
       "      <td>12</td>\n",
       "      <td>-13</td>\n",
       "      <td>mouth</td>\n",
       "    </tr>\n",
       "  </tbody>\n",
       "</table>\n",
       "</div>"
      ],
      "text/plain": [
       "     x   y    group\n",
       "0    0  22  outline\n",
       "1   16 -18  outline\n",
       "2  -16 -18  outline\n",
       "3    0  22  outline\n",
       "4   -3   7     leye\n",
       "5   -3  14     leye\n",
       "6    2   7     reye\n",
       "7    2  14     reye\n",
       "8  -11 -10    mouth\n",
       "9   -7 -17    mouth\n",
       "10  -3 -10    mouth\n",
       "11   2 -17    mouth\n",
       "12   6 -10    mouth\n",
       "13  10 -17    mouth\n",
       "14  12 -13    mouth"
      ]
     },
     "execution_count": 20,
     "metadata": {},
     "output_type": "execute_result"
    }
   ],
   "source": [
    "# I am flipping the crazy hat around the Y axis\n",
    "\n",
    "#Our Crazy hat matrix\n",
    "crazyhat_df"
   ]
  },
  {
   "cell_type": "code",
   "execution_count": 21,
   "metadata": {},
   "outputs": [
    {
     "data": {
      "text/plain": [
       "' I would use the same code as question 1 to draw to plot the crazy hat matrix. I would only multiply groups of outline, leye,reye, mouth with the Fx matrix to get mirror image along the Y axis\\n'"
      ]
     },
     "execution_count": 21,
     "metadata": {},
     "output_type": "execute_result"
    }
   ],
   "source": [
    "\"\"\" I would use the same code as question 1 to draw to plot the crazy hat matrix. I would only multiply groups of outline, leye,reye, mouth with the Fx matrix to get mirror image along the Y axis\n",
    "\"\"\""
   ]
  },
  {
   "cell_type": "code",
   "execution_count": 22,
   "metadata": {},
   "outputs": [
    {
     "data": {
      "image/png": "[encoded data removed]",
      "text/plain": [
       "<Figure size 432x288 with 1 Axes>"
      ]
     },
     "metadata": {
      "needs_background": "light"
     },
     "output_type": "display_data"
    }
   ],
   "source": [
    "#creating the rotation matrix\n",
    "theta = np.radians(0) #putting angle as 0 degree because we are not rotating\n",
    "c = np.cos(theta)\n",
    "s = np.sin(theta)\n",
    "R = np.array(((c,-s), (s, c)))\n",
    "        #plotting the image\n",
    "    \n",
    "fig = plt.figure()\n",
    "ax = fig.add_subplot(1,1,1)\n",
    "ax.set_aspect('equal')\n",
    "    \n",
    "    #plotting the outline\n",
    "Outline = crazyhat_df[crazyhat_df[\"group\"] ==\"outline\"]\n",
    "Outline = Outline.iloc[:,0:2]\n",
    "O = Outline @ R\n",
    "OFx = O @ Fx #multiplying with the Fx matrix\n",
    "ax.plot(OFx.iloc[:,0],OFx.iloc[:,1],c=colors_dict[\"outline\"],linewidth = linewidth_dict[\"outline\"])\n",
    "    \n",
    "     #plotting the Lefteye\n",
    "Lefteye = crazyhat_df[crazyhat_df[\"group\"] ==\"leye\"]\n",
    "Lefteye = Lefteye.iloc[:,0:2]\n",
    "Le = Lefteye @ R\n",
    "LeFx = Le @ Fx #multiplying with the Fx matrix\n",
    "ax.plot(LeFx.iloc[:,0],LeFx.iloc[:,1],c=colors_dict[\"leye\"],linewidth = linewidth_dict[\"leye\"])\n",
    "    \n",
    "    #plotting the Righteye\n",
    "Righteye = crazyhat_df[crazyhat_df[\"group\"] ==\"reye\"]\n",
    "Righteye = Righteye.iloc[:,0:2]\n",
    "Re = Righteye @ R\n",
    "ReFx = Re @ Fx #multiplying with the Fx matrix\n",
    "ax.plot(ReFx.iloc[:,0],ReFx.iloc[:,1],c=colors_dict[\"reye\"],linewidth = linewidth_dict[\"reye\"])\n",
    "    \n",
    "    #plotting the Mouth\n",
    "Mouth = crazyhat_df[crazyhat_df[\"group\"] ==\"mouth\"]\n",
    "Mouth = Mouth.iloc[:,0:2]\n",
    "M = Mouth @ R\n",
    "MFx = M @ Fx #multiplying with the Fx matrix\n",
    "ax.plot(MFx.iloc[:,0],MFx.iloc[:,1],c=colors_dict[\"mouth\"],linewidth = linewidth_dict[\"mouth\"])\n",
    "plt.show()\n"
   ]
  },
  {
   "cell_type": "code",
   "execution_count": 23,
   "metadata": {},
   "outputs": [],
   "source": [
    "#This is a mirror image of the crazy hat on y axis. You might not find it different because the hat is symmetrical about the y axis."
   ]
  },
  {
   "cell_type": "code",
   "execution_count": 24,
   "metadata": {},
   "outputs": [
    {
     "data": {
      "text/plain": [
       "'2.2 Create the \\x10stretch-y\\x11 matrix Sy(s).\\n'"
      ]
     },
     "execution_count": 24,
     "metadata": {},
     "output_type": "execute_result"
    }
   ],
   "source": [
    "\"\"\"2.2 Create the \u0010stretch-y\u0011 matrix Sy(s).\n",
    "\"\"\""
   ]
  },
  {
   "cell_type": "code",
   "execution_count": 25,
   "metadata": {},
   "outputs": [
    {
     "data": {
      "text/plain": [
       "array([[1, 0],\n",
       "       [0, 2]])"
      ]
     },
     "execution_count": 25,
     "metadata": {},
     "output_type": "execute_result"
    }
   ],
   "source": [
    "#We have to stretch the Y corrdinates 2 amount\n",
    "Sy = np.array([[1,0],[0,2]])\n",
    "Sy"
   ]
  },
  {
   "cell_type": "code",
   "execution_count": 26,
   "metadata": {},
   "outputs": [],
   "source": [
    "#Lets stretch the inverse 1 we drew in the lab\n",
    "SA = A @ Sy"
   ]
  },
  {
   "cell_type": "code",
   "execution_count": 27,
   "metadata": {},
   "outputs": [
    {
     "data": {
      "text/plain": [
       "[<matplotlib.lines.Line2D at 0x278e47b9390>]"
      ]
     },
     "execution_count": 27,
     "metadata": {},
     "output_type": "execute_result"
    },
    {
     "data": {
      "image/png": "[encoded data removed]",
      "text/plain": [
       "<Figure size 432x288 with 1 Axes>"
      ]
     },
     "metadata": {
      "needs_background": "light"
     },
     "output_type": "display_data"
    }
   ],
   "source": [
    "#stretchiong along te Y axis\n",
    "plt.axes().set_aspect('equal')\n",
    "plt.plot(SA[:,0], SA[:,1])"
   ]
  },
  {
   "cell_type": "code",
   "execution_count": 28,
   "metadata": {},
   "outputs": [
    {
     "data": {
      "text/plain": [
       "'\\nWe would now stretch the crazy hat. I would use the code of question 1. I would only multiply groups of outline, leye,reye, mouth with the Sy matrix to get mirror image along the Y axis\\n'"
      ]
     },
     "execution_count": 28,
     "metadata": {},
     "output_type": "execute_result"
    }
   ],
   "source": [
    "\"\"\"\n",
    "We would now stretch the crazy hat. I would use the code of question 1. I would only multiply groups of outline, leye,reye, mouth with the Sy matrix to get mirror image along the Y axis\n",
    "\"\"\""
   ]
  },
  {
   "cell_type": "code",
   "execution_count": 29,
   "metadata": {},
   "outputs": [
    {
     "data": {
      "image/png": "[encoded data removed]",
      "text/plain": [
       "<Figure size 432x288 with 1 Axes>"
      ]
     },
     "metadata": {
      "needs_background": "light"
     },
     "output_type": "display_data"
    }
   ],
   "source": [
    "#creating the rotation matrix\n",
    "theta = np.radians(0) #putting angle as 0 degree because we are not rotating\n",
    "c = np.cos(theta)\n",
    "s = np.sin(theta)\n",
    "R = np.array(((c,-s), (s, c)))\n",
    "        #plotting the image\n",
    "    \n",
    "fig = plt.figure()\n",
    "ax = fig.add_subplot(1,1,1)\n",
    "ax.set_aspect('equal')\n",
    "    \n",
    "    #plotting the outline\n",
    "Outline = crazyhat_df[crazyhat_df[\"group\"] ==\"outline\"]\n",
    "Outline = Outline.iloc[:,0:2]\n",
    "O = Outline @ R\n",
    "OSy = O @ Sy #multiplying with the Fx matrix\n",
    "ax.plot(OSy.iloc[:,0],OSy.iloc[:,1],c=colors_dict[\"outline\"],linewidth = linewidth_dict[\"outline\"])\n",
    "    \n",
    "     #plotting the Lefteye\n",
    "Lefteye = crazyhat_df[crazyhat_df[\"group\"] ==\"leye\"]\n",
    "Lefteye = Lefteye.iloc[:,0:2]\n",
    "Le = Lefteye @ R\n",
    "LeSy = Le @ Sy #multiplying with the Sy matrix\n",
    "ax.plot(LeSy.iloc[:,0],LeSy.iloc[:,1],c=colors_dict[\"leye\"],linewidth = linewidth_dict[\"leye\"])\n",
    "    \n",
    "    #plotting the Righteye\n",
    "Righteye = crazyhat_df[crazyhat_df[\"group\"] ==\"reye\"]\n",
    "Righteye = Righteye.iloc[:,0:2]\n",
    "Re = Righteye @ R\n",
    "ReSy = Re @ Sy #multiplying with the Fx matrix\n",
    "ax.plot(ReSy.iloc[:,0],ReSy.iloc[:,1],c=colors_dict[\"reye\"],linewidth = linewidth_dict[\"reye\"])\n",
    "    \n",
    "    #plotting the Mouth\n",
    "Mouth = crazyhat_df[crazyhat_df[\"group\"] ==\"mouth\"]\n",
    "Mouth = Mouth.iloc[:,0:2]\n",
    "M = Mouth @ R\n",
    "MSy = M @ Sy #multiplying with the Fx matrix\n",
    "ax.plot(MSy.iloc[:,0],MSy.iloc[:,1],c=colors_dict[\"mouth\"],linewidth = linewidth_dict[\"mouth\"])\n",
    "plt.show()\n"
   ]
  },
  {
   "cell_type": "code",
   "execution_count": 30,
   "metadata": {},
   "outputs": [],
   "source": [
    "#We have made the crazy hat twice as tall along the Y axis"
   ]
  },
  {
   "cell_type": "code",
   "execution_count": 31,
   "metadata": {},
   "outputs": [
    {
     "data": {
      "text/plain": [
       "'2.3 Do the following operations after one another: rotate it by 45 degrees counterclockwise, flip it, stretch it 2x, and rotate it back.\\n'"
      ]
     },
     "execution_count": 31,
     "metadata": {},
     "output_type": "execute_result"
    }
   ],
   "source": [
    "\"\"\"2.3 Do the following operations after one another: rotate it by 45 degrees counterclockwise, flip it, stretch it 2x, and rotate it back.\n",
    "\"\"\""
   ]
  },
  {
   "cell_type": "code",
   "execution_count": null,
   "metadata": {},
   "outputs": [],
   "source": []
  },
  {
   "cell_type": "code",
   "execution_count": 32,
   "metadata": {},
   "outputs": [
    {
     "data": {
      "text/plain": [
       "'We would now stretch the crazy hat. I would use the code of question 1. I would only multiply groups of outline, leye,reye, mouth with the Fx and Sy matrices to get mirror image along the Y axis\\n'"
      ]
     },
     "execution_count": 32,
     "metadata": {},
     "output_type": "execute_result"
    }
   ],
   "source": [
    "\"\"\"We would now stretch the crazy hat. I would use the code of question 1. I would only multiply groups of outline, leye,reye, mouth with the Fx and Sy matrices to get mirror image along the Y axis\n",
    "\"\"\""
   ]
  },
  {
   "cell_type": "code",
   "execution_count": 33,
   "metadata": {},
   "outputs": [],
   "source": [
    "#cretaing the rotation matrix for rotating 45 degree counter clockwise (-45 degree)\n",
    "theta_45 = np.radians(-45) #putting angle as 45 degree for rotating\n",
    "c_45 = np.cos(theta_45)\n",
    "s_45 = np.sin(theta_45)\n",
    "R_45 = np.array(((c_45,-s_45), (s_45, c_45)))\n",
    "       "
   ]
  },
  {
   "cell_type": "code",
   "execution_count": 34,
   "metadata": {},
   "outputs": [],
   "source": [
    "#creating the matrix to rotate back 45 degree, we name it with the subscript rb\n",
    "\n",
    "theta_45_rb = np.radians(45) #putting angle as 45 degree for rotating back (rb)\n",
    "c_45_rb = np.cos(theta_45_rb)\n",
    "s_45_rb = np.sin(theta_45_rb)\n",
    "R_45_rb = np.array(((c_45_rb,-s_45_rb), (s_45_rb, c_45_rb)))\n",
    "        "
   ]
  },
  {
   "cell_type": "code",
   "execution_count": 35,
   "metadata": {},
   "outputs": [],
   "source": [
    "#We hae the Fx and Sy matrices from earlier, so we do these steps on inverse 1 of the lab\n",
    "A_steps = A @ R_45 @Fx @Sy @R_45_rb"
   ]
  },
  {
   "cell_type": "code",
   "execution_count": null,
   "metadata": {},
   "outputs": [],
   "source": []
  },
  {
   "cell_type": "code",
   "execution_count": 36,
   "metadata": {},
   "outputs": [
    {
     "data": {
      "text/plain": [
       "[<matplotlib.lines.Line2D at 0x278e48d65c0>]"
      ]
     },
     "execution_count": 36,
     "metadata": {},
     "output_type": "execute_result"
    },
    {
     "data": {
      "image/png": "[encoded data removed]",
      "text/plain": [
       "<Figure size 432x288 with 1 Axes>"
      ]
     },
     "metadata": {
      "needs_background": "light"
     },
     "output_type": "display_data"
    }
   ],
   "source": [
    "plt.axes().set_aspect('equal')\n",
    "plt.plot(A_steps[:,0], A_steps[:,1], marker = \"o\")"
   ]
  },
  {
   "cell_type": "code",
   "execution_count": 37,
   "metadata": {},
   "outputs": [
    {
     "data": {
      "text/plain": [
       "array([[0.5, 1.5],\n",
       "       [1.5, 0.5]])"
      ]
     },
     "execution_count": 37,
     "metadata": {},
     "output_type": "execute_result"
    }
   ],
   "source": [
    "total_steps = R_45 @Fx @Sy @R_45_rb\n",
    "A_total_steps = A @ total_steps\n",
    "total_steps"
   ]
  },
  {
   "cell_type": "code",
   "execution_count": 38,
   "metadata": {},
   "outputs": [
    {
     "data": {
      "text/plain": [
       "[<matplotlib.lines.Line2D at 0x278e496c358>]"
      ]
     },
     "execution_count": 38,
     "metadata": {},
     "output_type": "execute_result"
    },
    {
     "data": {
      "image/png": "[encoded data removed]",
      "text/plain": [
       "<Figure size 432x288 with 1 Axes>"
      ]
     },
     "metadata": {
      "needs_background": "light"
     },
     "output_type": "display_data"
    }
   ],
   "source": [
    "plt.axes().set_aspect('equal')\n",
    "plt.plot(A_total_steps[:,0], A_total_steps[:,1], marker = \"o\")"
   ]
  },
  {
   "cell_type": "code",
   "execution_count": 40,
   "metadata": {},
   "outputs": [
    {
     "data": {
      "image/png": "[encoded data removed]",
      "text/plain": [
       "<Figure size 432x288 with 1 Axes>"
      ]
     },
     "metadata": {
      "needs_background": "light"
     },
     "output_type": "display_data"
    }
   ],
   "source": [
    "#We would multiply each group to  @R_45 @Fx @Sy @R_45_rb, this would rotate 45 degree counterclockwise, flip it, stretch it and rotate back 45 degree\n",
    "        #plotting the image\n",
    "    \n",
    "fig = plt.figure()\n",
    "ax = fig.add_subplot(1,1,1)\n",
    "ax.set_aspect('equal')\n",
    "    \n",
    "    #plotting the outline\n",
    "Outline = crazyhat_df[crazyhat_df[\"group\"] ==\"outline\"]\n",
    "Outline = Outline.iloc[:,0:2]\n",
    "O = Outline @ R_45 @Fx @Sy @R_45_rb #We are rotating 45 degree counterclockwise, flipping, stretching, rotating back\n",
    "\n",
    "ax.plot(O.iloc[:,0],O.iloc[:,1],c=colors_dict[\"outline\"],linewidth = linewidth_dict[\"outline\"])\n",
    "    \n",
    "     #plotting the Lefteye\n",
    "Lefteye = crazyhat_df[crazyhat_df[\"group\"] ==\"leye\"]\n",
    "Lefteye = Lefteye.iloc[:,0:2]\n",
    "Le = Lefteye @ R_45 @Fx @Sy @R_45_rb #We are rotating 45 degree counterclockwise, flipping, stretching, rotating back\n",
    "\n",
    "ax.plot(Le.iloc[:,0],Le.iloc[:,1],c=colors_dict[\"leye\"],linewidth = linewidth_dict[\"leye\"])\n",
    "    \n",
    "    #plotting the Righteye\n",
    "Righteye = crazyhat_df[crazyhat_df[\"group\"] ==\"reye\"]\n",
    "Righteye = Righteye.iloc[:,0:2]\n",
    "Re = Righteye @ R_45 @Fx @Sy @R_45_rb #We are rotating 45 degree counterclockwise, flipping, stretching, rotating back\n",
    "\n",
    "ax.plot(Re.iloc[:,0],Re.iloc[:,1],c=colors_dict[\"reye\"],linewidth = linewidth_dict[\"reye\"])\n",
    "    \n",
    "    #plotting the Mouth\n",
    "Mouth = crazyhat_df[crazyhat_df[\"group\"] ==\"mouth\"]\n",
    "Mouth = Mouth.iloc[:,0:2]\n",
    "M = Mouth @ R_45 @Fx @Sy @R_45_rb #We are rotating 45 degree counterclockwise, flipping, stretching, rotating back\n",
    "\n",
    "ax.plot(M.iloc[:,0],M.iloc[:,1],c=colors_dict[\"mouth\"],linewidth = linewidth_dict[\"mouth\"])\n",
    "plt.show()\n"
   ]
  },
  {
   "cell_type": "code",
   "execution_count": 41,
   "metadata": {},
   "outputs": [
    {
     "data": {
      "text/plain": [
       "'3.4 Finally, consider all these transformations as a single linear transformation. Print the corresponding transition matrix.\\n'"
      ]
     },
     "execution_count": 41,
     "metadata": {},
     "output_type": "execute_result"
    }
   ],
   "source": [
    "\"\"\"3.4 Finally, consider all these transformations as a single linear transformation. Print the corresponding transition matrix.\n",
    "\"\"\""
   ]
  },
  {
   "cell_type": "code",
   "execution_count": 42,
   "metadata": {},
   "outputs": [
    {
     "data": {
      "text/plain": [
       "array([[0.5, 1.5],\n",
       "       [1.5, 0.5]])"
      ]
     },
     "execution_count": 42,
     "metadata": {},
     "output_type": "execute_result"
    }
   ],
   "source": [
    "#Transformation Matrix of all the steps\n",
    "Tm = R_45 @Fx @Sy @R_45_rb\n",
    "Tm"
   ]
  },
  {
   "cell_type": "code",
   "execution_count": null,
   "metadata": {},
   "outputs": [],
   "source": []
  },
  {
   "cell_type": "code",
   "execution_count": null,
   "metadata": {},
   "outputs": [],
   "source": []
  },
  {
   "cell_type": "code",
   "execution_count": 43,
   "metadata": {},
   "outputs": [
    {
     "data": {
      "text/plain": [
       "'3.1 Understand the example code above. Consult documentation of the corresponding functions, and also read Transforming Bitmap Images into Coordinate Matrix Form in the lecture notes (I try to improve the text the next few days).\\n'"
      ]
     },
     "execution_count": 43,
     "metadata": {},
     "output_type": "execute_result"
    }
   ],
   "source": [
    "\"\"\"3.1 Understand the example code above. Consult documentation of the corresponding functions, and also read Transforming Bitmap Images into Coordinate Matrix Form in the lecture notes (I try to improve the text the next few days).\n",
    "\"\"\""
   ]
  },
  {
   "cell_type": "code",
   "execution_count": 44,
   "metadata": {},
   "outputs": [
    {
     "data": {
      "image/png": "[encoded data removed]",
      "text/plain": [
       "<Figure size 216x216 with 1 Axes>"
      ]
     },
     "metadata": {
      "needs_background": "light"
     },
     "output_type": "display_data"
    }
   ],
   "source": [
    "from matplotlib.image import imread\n",
    "img = imread('smiley.png')\n",
    "# note: rows x columns x colors (not width x height!)\n",
    "R = img[:,:,1] # select color channel 2, G\n",
    "## create coordinate matrix\n",
    "xx, yy = np.meshgrid(np.arange(R.shape[1]),\n",
    "np.arange(R.shape[0], 0, -1))\n",
    "X = np.stack((xx.ravel(), yy.ravel()), axis=1)\n",
    "fig = plt.figure(figsize=(3,3))\n",
    "ax = fig.add_subplot(1,1,1)\n",
    "ax.scatter(X[:,0], X[:,1], c=R.ravel(), marker='.', cmap=\"Greys_r\")\n",
    "ax.set_aspect('equal')\n",
    "plt.show()\n"
   ]
  },
  {
   "cell_type": "code",
   "execution_count": 45,
   "metadata": {},
   "outputs": [
    {
     "data": {
      "text/plain": [
       "'3.2 Read the image dont-own-tv.png and display it in an analogous\\nfashion. (We will just stay with grayscale images).\\n'"
      ]
     },
     "execution_count": 45,
     "metadata": {},
     "output_type": "execute_result"
    }
   ],
   "source": [
    "\"\"\"3.2 Read the image dont-own-tv.png and display it in an analogous\n",
    "fashion. (We will just stay with grayscale images).\n",
    "\"\"\""
   ]
  },
  {
   "cell_type": "code",
   "execution_count": 46,
   "metadata": {},
   "outputs": [
    {
     "data": {
      "image/png": "[encoded data removed]",
      "text/plain": [
       "<Figure size 216x216 with 1 Axes>"
      ]
     },
     "metadata": {
      "needs_background": "light"
     },
     "output_type": "display_data"
    }
   ],
   "source": [
    "#reading te image file\n",
    "\n",
    "from matplotlib.image import imread\n",
    "img = imread('dont-own-tv-small.png')\n",
    "# note: rows x columns x colors (not width x height!)\n",
    "R = img[:,:,1] # select color channel 2, G\n",
    "## create coordinate matrix\n",
    "xx, yy = np.meshgrid(np.arange(R.shape[1]),\n",
    "np.arange(R.shape[0], 0, -1))\n",
    "X = np.stack((xx.ravel(), yy.ravel()), axis=1)\n",
    "fig = plt.figure(figsize=(3,3))\n",
    "ax = fig.add_subplot(1,1,1)\n",
    "ax.scatter(X[:,0], X[:,1], c=R.ravel(), marker='.', cmap=\"Greys_r\")\n",
    "ax.set_aspect('equal')\n",
    "plt.show()\n"
   ]
  },
  {
   "cell_type": "code",
   "execution_count": 47,
   "metadata": {},
   "outputs": [
    {
     "data": {
      "image/png": "[encoded data removed]",
      "text/plain": [
       "<Figure size 216x216 with 1 Axes>"
      ]
     },
     "metadata": {
      "needs_background": "light"
     },
     "output_type": "display_data"
    }
   ],
   "source": [
    "#experimenting with a different colour map\n",
    "\n",
    "from matplotlib.image import imread\n",
    "img = imread('dont-own-tv-small.png')\n",
    "# note: rows x columns x colors (not width x height!)\n",
    "R = img[:,:,1] # select color channel 2, G\n",
    "## create coordinate matrix\n",
    "xx, yy = np.meshgrid(np.arange(R.shape[1]),\n",
    "np.arange(R.shape[0], 0, -1))\n",
    "X = np.stack((xx.ravel(), yy.ravel()), axis=1)\n",
    "fig = plt.figure(figsize=(3,3))\n",
    "ax = fig.add_subplot(1,1,1)\n",
    "ax.scatter(X[:,0], X[:,1], c=R.ravel(), marker='.', cmap=\"hot\")\n",
    "ax.set_aspect('equal')\n",
    "plt.show()\n"
   ]
  },
  {
   "cell_type": "code",
   "execution_count": 48,
   "metadata": {},
   "outputs": [
    {
     "data": {
      "text/plain": [
       "'3.3 Now stretch the image vertically (using the stretch-y matrix you\\ndid above) so that it will be square-shaped.\\n'"
      ]
     },
     "execution_count": 48,
     "metadata": {},
     "output_type": "execute_result"
    }
   ],
   "source": [
    "\"\"\"3.3 Now stretch the image vertically (using the stretch-y matrix you\n",
    "did above) so that it will be square-shaped.\n",
    "\"\"\""
   ]
  },
  {
   "cell_type": "code",
   "execution_count": 49,
   "metadata": {},
   "outputs": [
    {
     "data": {
      "text/plain": [
       "(189, 300, 3)"
      ]
     },
     "execution_count": 49,
     "metadata": {},
     "output_type": "execute_result"
    }
   ],
   "source": [
    "#I am calculating the stretch factor, so finding dimesnsions of image file\n",
    "img.shape"
   ]
  },
  {
   "cell_type": "code",
   "execution_count": 50,
   "metadata": {},
   "outputs": [
    {
     "data": {
      "text/plain": [
       "1.5873015873015872"
      ]
     },
     "execution_count": 50,
     "metadata": {},
     "output_type": "execute_result"
    }
   ],
   "source": [
    "#The height is 189 pixels and the width is 300 pixel, so stretch factor = 300/189\n",
    "stretch_factor = R.shape[1]/R.shape[0]\n",
    "stretch_factor"
   ]
  },
  {
   "cell_type": "code",
   "execution_count": 51,
   "metadata": {},
   "outputs": [
    {
     "data": {
      "text/plain": [
       "array([[1.        , 0.        ],\n",
       "       [0.        , 1.58730159]])"
      ]
     },
     "execution_count": 51,
     "metadata": {},
     "output_type": "execute_result"
    }
   ],
   "source": [
    "# I would now create the stretch matrix to stretch in the y direction with an amount of stretch_factor\n",
    "Stretch_matrix = np.array([[1,0],[0,stretch_factor]])\n",
    "Stretch_matrix"
   ]
  },
  {
   "cell_type": "code",
   "execution_count": 52,
   "metadata": {},
   "outputs": [
    {
     "data": {
      "image/png": "[encoded data removed]",
      "text/plain": [
       "<Figure size 216x216 with 1 Axes>"
      ]
     },
     "metadata": {
      "needs_background": "light"
     },
     "output_type": "display_data"
    }
   ],
   "source": [
    "#I would multiply X with the stretch matrix to make the figure square\n",
    "from matplotlib.image import imread\n",
    "img = imread('dont-own-tv-small.png')\n",
    "# note: rows x columns x colors (not width x height!)\n",
    "R = img[:,:,1] # select color channel 2, G\n",
    "## create coordinate matrix\n",
    "xx, yy = np.meshgrid(np.arange(R.shape[1]),\n",
    "np.arange(R.shape[0], 0, -1))\n",
    "X = np.stack((xx.ravel(), yy.ravel()), axis=1)\n",
    "X = X @ Stretch_matrix # multiplying with stretch matrix\n",
    "fig = plt.figure(figsize=(3,3))\n",
    "ax = fig.add_subplot(1,1,1)\n",
    "ax.scatter(X[:,0], X[:,1], c=R.ravel(), marker='.', cmap=\"Greys_r\")\n",
    "ax.set_aspect('equal')\n",
    "plt.show()"
   ]
  },
  {
   "cell_type": "code",
   "execution_count": 53,
   "metadata": {},
   "outputs": [
    {
     "data": {
      "text/plain": [
       "'3.4 Zoom onto just the red arrowhead from the image (extract a\\nslice that just contains the arrowhead), and plot it in a rotated form\\nso that the arrow points exactly left.\\n'"
      ]
     },
     "execution_count": 53,
     "metadata": {},
     "output_type": "execute_result"
    }
   ],
   "source": [
    "\"\"\"3.4 Zoom onto just the red arrowhead from the image (extract a\n",
    "slice that just contains the arrowhead), and plot it in a rotated form\n",
    "so that the arrow points exactly left.\n",
    "\"\"\""
   ]
  },
  {
   "cell_type": "code",
   "execution_count": 54,
   "metadata": {},
   "outputs": [
    {
     "data": {
      "image/png": "[encoded data removed]",
      "text/plain": [
       "<Figure size 216x216 with 1 Axes>"
      ]
     },
     "metadata": {
      "needs_background": "light"
     },
     "output_type": "display_data"
    }
   ],
   "source": [
    "#reading te image file\n",
    "\n",
    "from matplotlib.image import imread\n",
    "img = imread('dont-own-tv-small.png')\n",
    "# note: rows x columns x colors (not width x height!)\n",
    "R = img[:,:,1] # select color channel 2, G\n",
    "## create coordinate matrix\n",
    "xx, yy = np.meshgrid(np.arange(R.shape[1]),\n",
    "np.arange(R.shape[0], 0, -1))\n",
    "X = np.stack((xx.ravel(), yy.ravel()), axis=1)\n",
    "fig = plt.figure(figsize=(3,3))\n",
    "ax = fig.add_subplot(1,1,1)\n",
    "ax.scatter(X[:,0], X[:,1], c=R.ravel(), marker='.', cmap=\"Greys_r\")\n",
    "ax.set_aspect('equal')\n",
    "plt.show()\n"
   ]
  },
  {
   "cell_type": "code",
   "execution_count": 55,
   "metadata": {},
   "outputs": [],
   "source": [
    "#We can find that the arrow head is somewhere between 100 to 150 pixel in y direction; and 250 to 300 in the x direction\n"
   ]
  },
  {
   "cell_type": "code",
   "execution_count": 56,
   "metadata": {},
   "outputs": [
    {
     "data": {
      "text/plain": [
       "(189, 300, 3)"
      ]
     },
     "execution_count": 56,
     "metadata": {},
     "output_type": "execute_result"
    }
   ],
   "source": [
    "img.shape"
   ]
  },
  {
   "cell_type": "code",
   "execution_count": 57,
   "metadata": {},
   "outputs": [],
   "source": [
    "#I did various experiments with slicing and found that the red arrow hat is in the following dimension\n",
    "Q = img[65:80,265:280,1]"
   ]
  },
  {
   "cell_type": "code",
   "execution_count": 58,
   "metadata": {},
   "outputs": [
    {
     "data": {
      "text/plain": [
       "(15, 15)"
      ]
     },
     "execution_count": 58,
     "metadata": {},
     "output_type": "execute_result"
    }
   ],
   "source": [
    "Q.shape"
   ]
  },
  {
   "cell_type": "code",
   "execution_count": 59,
   "metadata": {},
   "outputs": [
    {
     "data": {
      "image/png": "[encoded data removed]",
      "text/plain": [
       "<Figure size 216x216 with 1 Axes>"
      ]
     },
     "metadata": {
      "needs_background": "light"
     },
     "output_type": "display_data"
    }
   ],
   "source": [
    "#reading te image file\n",
    "\n",
    "from matplotlib.image import imread\n",
    "img = imread('dont-own-tv-small.png')\n",
    "# note: rows x columns x colors (not width x height!)\n",
    "Q = img[66:78,268:280,1] # select color channel 2, G; and also slicing the red arrow head\n",
    "## create coordinate matrix\n",
    "xx, yy = np.meshgrid(np.arange(Q.shape[1]),\n",
    "np.arange(Q.shape[0], 0, -1))\n",
    "X = np.stack((xx.ravel(), yy.ravel()), axis=1)\n",
    "fig = plt.figure(figsize=(3,3))\n",
    "ax = fig.add_subplot(1,1,1)\n",
    "ax.scatter(X[:,0], X[:,1], c=Q.ravel(), marker='.', cmap=\"Greys_r\")\n",
    "ax.set_aspect('equal')\n",
    "plt.show()\n"
   ]
  },
  {
   "cell_type": "code",
   "execution_count": 60,
   "metadata": {},
   "outputs": [],
   "source": [
    "#We have to rotate it to left. As the question does not mention to take the mirror image, I am rotating it through an angle of 270 degree counter clockwise, creating the rotation matrix\n",
    "theta_270 = np.radians(-270) #putting angle as -270 degree for rotating\n",
    "c_270 = np.cos(theta_270)\n",
    "s_270 = np.sin(theta_270)\n",
    "Rm_270 = np.array(((c_270,-s_270), (s_270, c_270)))\n"
   ]
  },
  {
   "cell_type": "code",
   "execution_count": 61,
   "metadata": {},
   "outputs": [
    {
     "data": {
      "text/plain": [
       "(2, 2)"
      ]
     },
     "execution_count": 61,
     "metadata": {},
     "output_type": "execute_result"
    }
   ],
   "source": [
    "Rm_270.shape"
   ]
  },
  {
   "cell_type": "code",
   "execution_count": 62,
   "metadata": {},
   "outputs": [
    {
     "data": {
      "text/plain": [
       "array([[-1.8369702e-16, -1.0000000e+00],\n",
       "       [ 1.0000000e+00, -1.8369702e-16]])"
      ]
     },
     "execution_count": 62,
     "metadata": {},
     "output_type": "execute_result"
    }
   ],
   "source": [
    "Rm_270"
   ]
  },
  {
   "cell_type": "code",
   "execution_count": 63,
   "metadata": {},
   "outputs": [
    {
     "data": {
      "text/plain": [
       "(144, 2)"
      ]
     },
     "execution_count": 63,
     "metadata": {},
     "output_type": "execute_result"
    }
   ],
   "source": [
    "X.shape"
   ]
  },
  {
   "cell_type": "code",
   "execution_count": 64,
   "metadata": {},
   "outputs": [
    {
     "data": {
      "image/png": "[encoded data removed]",
      "text/plain": [
       "<Figure size 216x216 with 1 Axes>"
      ]
     },
     "metadata": {
      "needs_background": "light"
     },
     "output_type": "display_data"
    }
   ],
   "source": [
    "#plotting the rotated image\n",
    "\n",
    "from matplotlib.image import imread\n",
    "img = imread('dont-own-tv-small.png')\n",
    "# note: rows x columns x colors (not width x height!)\n",
    "Q = img[66:78,268:280,1] # select color channel 2, G; and also slicing the red arrow head\n",
    "## create coordinate matrix\n",
    "xx, yy = np.meshgrid(np.arange(Q.shape[1]),\n",
    "np.arange(Q.shape[0], 0, -1))\n",
    "X = np.stack((xx.ravel(), yy.ravel()), axis=1)\n",
    "fig = plt.figure(figsize=(3,3))\n",
    "ax = fig.add_subplot(1,1,1)\n",
    "X=X.astype(float)\n",
    "X = X @ Rm_270\n",
    "ax.scatter(X[:,0], X[:,1], c=Q.ravel(), marker='.', cmap=\"Greys_r\")\n",
    "ax.set_aspect('equal')\n",
    "plt.show()\n"
   ]
  },
  {
   "cell_type": "code",
   "execution_count": 65,
   "metadata": {},
   "outputs": [
    {
     "data": {
      "text/plain": [
       "'Extra credit: when plotting the arrow, create a red\\ncolormap in a way that the image will be printed in levels of red, not in\\ngrays.\\n'"
      ]
     },
     "execution_count": 65,
     "metadata": {},
     "output_type": "execute_result"
    }
   ],
   "source": [
    "\"\"\"Extra credit: when plotting the arrow, create a red\n",
    "colormap in a way that the image will be printed in levels of red, not in\n",
    "grays.\n",
    "\"\"\""
   ]
  },
  {
   "cell_type": "code",
   "execution_count": 66,
   "metadata": {},
   "outputs": [
    {
     "data": {
      "image/png": "[encoded data removed]",
      "text/plain": [
       "<Figure size 216x216 with 1 Axes>"
      ]
     },
     "metadata": {
      "needs_background": "light"
     },
     "output_type": "display_data"
    }
   ],
   "source": [
    "#reading te image file\n",
    "\n",
    "from matplotlib.image import imread\n",
    "img = imread('dont-own-tv-small.png')\n",
    "# note: rows x columns x colors (not width x height!)\n",
    "Q = img[65:78,265:280,1] # select color channel 2, G; and also slicing the red arrow head\n",
    "## create coordinate matrix\n",
    "xx, yy = np.meshgrid(np.arange(Q.shape[1]),\n",
    "np.arange(Q.shape[0], 0, -1))\n",
    "X = np.stack((xx.ravel(), yy.ravel()), axis=1)\n",
    "fig = plt.figure(figsize=(3,3))\n",
    "ax = fig.add_subplot(1,1,1)\n",
    "ax.scatter(X[:,0], X[:,1], c=Q.ravel(), marker='.', cmap=\"Reds\")\n",
    "ax.set_aspect('equal')\n",
    "plt.show()\n"
   ]
  },
  {
   "cell_type": "code",
   "execution_count": 67,
   "metadata": {},
   "outputs": [],
   "source": [
    "cdict = {'red':   ((0.0, 1.0, 1.0), \n",
    "                   (0.1, 1.0, 1.0),  # red \n",
    "                   (0.4, 1.0, 1.0),  # violet\n",
    "                   (1.0, 0.0, 0.0)), # blue\n",
    "\n",
    "         'green': ((0.0, 0.0, 0.0),\n",
    "                   (1.0, 0.0, 0.0)),\n",
    "\n",
    "         'blue':  ((0.0, 0.0, 0.0),\n",
    "                   (0.1, 0.0, 0.0),  # red\n",
    "                   (0.4, 1.0, 1.0),  # violet\n",
    "                   (1.0, 1.0, 0.0))  # blue\n",
    "          }"
   ]
  },
  {
   "cell_type": "code",
   "execution_count": 68,
   "metadata": {},
   "outputs": [
    {
     "ename": "ValueError",
     "evalue": "Invalid RGBA argument: ((0.0, 1.0, 1.0), (0.1, 1.0, 1.0), (0.4, 1.0, 1.0), (1.0, 0.0, 0.0))",
     "output_type": "error",
     "traceback": [
      "\u001b[1;31m---------------------------------------------------------------------------\u001b[0m",
      "\u001b[1;31mValueError\u001b[0m                                Traceback (most recent call last)",
      "\u001b[1;32m<ipython-input-68-09422066d30f>\u001b[0m in \u001b[0;36m<module>\u001b[1;34m\u001b[0m\n\u001b[0;32m     13\u001b[0m \u001b[0mfig\u001b[0m \u001b[1;33m=\u001b[0m \u001b[0mplt\u001b[0m\u001b[1;33m.\u001b[0m\u001b[0mfigure\u001b[0m\u001b[1;33m(\u001b[0m\u001b[0mfigsize\u001b[0m\u001b[1;33m=\u001b[0m\u001b[1;33m(\u001b[0m\u001b[1;36m3\u001b[0m\u001b[1;33m,\u001b[0m\u001b[1;36m3\u001b[0m\u001b[1;33m)\u001b[0m\u001b[1;33m)\u001b[0m\u001b[1;33m\u001b[0m\u001b[1;33m\u001b[0m\u001b[0m\n\u001b[0;32m     14\u001b[0m \u001b[0max\u001b[0m \u001b[1;33m=\u001b[0m \u001b[0mfig\u001b[0m\u001b[1;33m.\u001b[0m\u001b[0madd_subplot\u001b[0m\u001b[1;33m(\u001b[0m\u001b[1;36m1\u001b[0m\u001b[1;33m,\u001b[0m\u001b[1;36m1\u001b[0m\u001b[1;33m,\u001b[0m\u001b[1;36m1\u001b[0m\u001b[1;33m)\u001b[0m\u001b[1;33m\u001b[0m\u001b[1;33m\u001b[0m\u001b[0m\n\u001b[1;32m---> 15\u001b[1;33m \u001b[0max\u001b[0m\u001b[1;33m.\u001b[0m\u001b[0mscatter\u001b[0m\u001b[1;33m(\u001b[0m\u001b[0mX\u001b[0m\u001b[1;33m[\u001b[0m\u001b[1;33m:\u001b[0m\u001b[1;33m,\u001b[0m\u001b[1;36m0\u001b[0m\u001b[1;33m]\u001b[0m\u001b[1;33m,\u001b[0m \u001b[0mX\u001b[0m\u001b[1;33m[\u001b[0m\u001b[1;33m:\u001b[0m\u001b[1;33m,\u001b[0m\u001b[1;36m1\u001b[0m\u001b[1;33m]\u001b[0m\u001b[1;33m,\u001b[0m \u001b[0mc\u001b[0m\u001b[1;33m=\u001b[0m\u001b[0mQ\u001b[0m\u001b[1;33m.\u001b[0m\u001b[0mravel\u001b[0m\u001b[1;33m(\u001b[0m\u001b[1;33m)\u001b[0m\u001b[1;33m,\u001b[0m \u001b[0mmarker\u001b[0m\u001b[1;33m=\u001b[0m\u001b[1;34m'.'\u001b[0m\u001b[1;33m,\u001b[0m \u001b[0mcmap\u001b[0m\u001b[1;33m=\u001b[0m\u001b[0mmatplotlib\u001b[0m\u001b[1;33m.\u001b[0m\u001b[0mcolors\u001b[0m\u001b[1;33m.\u001b[0m\u001b[0mLinearSegmentedColormap\u001b[0m\u001b[1;33m.\u001b[0m\u001b[0mfrom_list\u001b[0m\u001b[1;33m(\u001b[0m\u001b[1;34m\"\"\u001b[0m\u001b[1;33m,\u001b[0m \u001b[1;33m[\u001b[0m\u001b[0mcdict\u001b[0m\u001b[1;33m[\u001b[0m\u001b[1;34m\"red\"\u001b[0m\u001b[1;33m]\u001b[0m\u001b[1;33m,\u001b[0m\u001b[0mcdict\u001b[0m\u001b[1;33m[\u001b[0m\u001b[1;34m\"green\"\u001b[0m\u001b[1;33m]\u001b[0m\u001b[1;33m,\u001b[0m\u001b[0mcdict\u001b[0m\u001b[1;33m[\u001b[0m\u001b[1;34m\"blue\"\u001b[0m\u001b[1;33m]\u001b[0m\u001b[1;33m]\u001b[0m\u001b[1;33m)\u001b[0m\u001b[1;33m)\u001b[0m\u001b[1;33m\u001b[0m\u001b[1;33m\u001b[0m\u001b[0m\n\u001b[0m\u001b[0;32m     16\u001b[0m \u001b[0max\u001b[0m\u001b[1;33m.\u001b[0m\u001b[0mset_aspect\u001b[0m\u001b[1;33m(\u001b[0m\u001b[1;34m'equal'\u001b[0m\u001b[1;33m)\u001b[0m\u001b[1;33m\u001b[0m\u001b[1;33m\u001b[0m\u001b[0m\n\u001b[0;32m     17\u001b[0m \u001b[0mplt\u001b[0m\u001b[1;33m.\u001b[0m\u001b[0mshow\u001b[0m\u001b[1;33m(\u001b[0m\u001b[1;33m)\u001b[0m\u001b[1;33m\u001b[0m\u001b[1;33m\u001b[0m\u001b[0m\n",
      "\u001b[1;32mC:\\ProgramData\\Anaconda3\\lib\\site-packages\\matplotlib\\colors.py\u001b[0m in \u001b[0;36mfrom_list\u001b[1;34m(name, colors, N, gamma)\u001b[0m\n\u001b[0;32m    702\u001b[0m         \u001b[0mcdict\u001b[0m \u001b[1;33m=\u001b[0m \u001b[0mdict\u001b[0m\u001b[1;33m(\u001b[0m\u001b[0mred\u001b[0m\u001b[1;33m=\u001b[0m\u001b[1;33m[\u001b[0m\u001b[1;33m]\u001b[0m\u001b[1;33m,\u001b[0m \u001b[0mgreen\u001b[0m\u001b[1;33m=\u001b[0m\u001b[1;33m[\u001b[0m\u001b[1;33m]\u001b[0m\u001b[1;33m,\u001b[0m \u001b[0mblue\u001b[0m\u001b[1;33m=\u001b[0m\u001b[1;33m[\u001b[0m\u001b[1;33m]\u001b[0m\u001b[1;33m,\u001b[0m \u001b[0malpha\u001b[0m\u001b[1;33m=\u001b[0m\u001b[1;33m[\u001b[0m\u001b[1;33m]\u001b[0m\u001b[1;33m)\u001b[0m\u001b[1;33m\u001b[0m\u001b[1;33m\u001b[0m\u001b[0m\n\u001b[0;32m    703\u001b[0m         \u001b[1;32mfor\u001b[0m \u001b[0mval\u001b[0m\u001b[1;33m,\u001b[0m \u001b[0mcolor\u001b[0m \u001b[1;32min\u001b[0m \u001b[0mzip\u001b[0m\u001b[1;33m(\u001b[0m\u001b[0mvals\u001b[0m\u001b[1;33m,\u001b[0m \u001b[0mcolors\u001b[0m\u001b[1;33m)\u001b[0m\u001b[1;33m:\u001b[0m\u001b[1;33m\u001b[0m\u001b[1;33m\u001b[0m\u001b[0m\n\u001b[1;32m--> 704\u001b[1;33m             \u001b[0mr\u001b[0m\u001b[1;33m,\u001b[0m \u001b[0mg\u001b[0m\u001b[1;33m,\u001b[0m \u001b[0mb\u001b[0m\u001b[1;33m,\u001b[0m \u001b[0ma\u001b[0m \u001b[1;33m=\u001b[0m \u001b[0mto_rgba\u001b[0m\u001b[1;33m(\u001b[0m\u001b[0mcolor\u001b[0m\u001b[1;33m)\u001b[0m\u001b[1;33m\u001b[0m\u001b[1;33m\u001b[0m\u001b[0m\n\u001b[0m\u001b[0;32m    705\u001b[0m             \u001b[0mcdict\u001b[0m\u001b[1;33m[\u001b[0m\u001b[1;34m'red'\u001b[0m\u001b[1;33m]\u001b[0m\u001b[1;33m.\u001b[0m\u001b[0mappend\u001b[0m\u001b[1;33m(\u001b[0m\u001b[1;33m(\u001b[0m\u001b[0mval\u001b[0m\u001b[1;33m,\u001b[0m \u001b[0mr\u001b[0m\u001b[1;33m,\u001b[0m \u001b[0mr\u001b[0m\u001b[1;33m)\u001b[0m\u001b[1;33m)\u001b[0m\u001b[1;33m\u001b[0m\u001b[1;33m\u001b[0m\u001b[0m\n\u001b[0;32m    706\u001b[0m             \u001b[0mcdict\u001b[0m\u001b[1;33m[\u001b[0m\u001b[1;34m'green'\u001b[0m\u001b[1;33m]\u001b[0m\u001b[1;33m.\u001b[0m\u001b[0mappend\u001b[0m\u001b[1;33m(\u001b[0m\u001b[1;33m(\u001b[0m\u001b[0mval\u001b[0m\u001b[1;33m,\u001b[0m \u001b[0mg\u001b[0m\u001b[1;33m,\u001b[0m \u001b[0mg\u001b[0m\u001b[1;33m)\u001b[0m\u001b[1;33m)\u001b[0m\u001b[1;33m\u001b[0m\u001b[1;33m\u001b[0m\u001b[0m\n",
      "\u001b[1;32mC:\\ProgramData\\Anaconda3\\lib\\site-packages\\matplotlib\\colors.py\u001b[0m in \u001b[0;36mto_rgba\u001b[1;34m(c, alpha)\u001b[0m\n\u001b[0;32m    175\u001b[0m         \u001b[0mrgba\u001b[0m \u001b[1;33m=\u001b[0m \u001b[1;32mNone\u001b[0m\u001b[1;33m\u001b[0m\u001b[1;33m\u001b[0m\u001b[0m\n\u001b[0;32m    176\u001b[0m     \u001b[1;32mif\u001b[0m \u001b[0mrgba\u001b[0m \u001b[1;32mis\u001b[0m \u001b[1;32mNone\u001b[0m\u001b[1;33m:\u001b[0m  \u001b[1;31m# Suppress exception chaining of cache lookup failure.\u001b[0m\u001b[1;33m\u001b[0m\u001b[1;33m\u001b[0m\u001b[0m\n\u001b[1;32m--> 177\u001b[1;33m         \u001b[0mrgba\u001b[0m \u001b[1;33m=\u001b[0m \u001b[0m_to_rgba_no_colorcycle\u001b[0m\u001b[1;33m(\u001b[0m\u001b[0mc\u001b[0m\u001b[1;33m,\u001b[0m \u001b[0malpha\u001b[0m\u001b[1;33m)\u001b[0m\u001b[1;33m\u001b[0m\u001b[1;33m\u001b[0m\u001b[0m\n\u001b[0m\u001b[0;32m    178\u001b[0m         \u001b[1;32mtry\u001b[0m\u001b[1;33m:\u001b[0m\u001b[1;33m\u001b[0m\u001b[1;33m\u001b[0m\u001b[0m\n\u001b[0;32m    179\u001b[0m             \u001b[0m_colors_full_map\u001b[0m\u001b[1;33m.\u001b[0m\u001b[0mcache\u001b[0m\u001b[1;33m[\u001b[0m\u001b[0mc\u001b[0m\u001b[1;33m,\u001b[0m \u001b[0malpha\u001b[0m\u001b[1;33m]\u001b[0m \u001b[1;33m=\u001b[0m \u001b[0mrgba\u001b[0m\u001b[1;33m\u001b[0m\u001b[1;33m\u001b[0m\u001b[0m\n",
      "\u001b[1;32mC:\\ProgramData\\Anaconda3\\lib\\site-packages\\matplotlib\\colors.py\u001b[0m in \u001b[0;36m_to_rgba_no_colorcycle\u001b[1;34m(c, alpha)\u001b[0m\n\u001b[0;32m    236\u001b[0m         \u001b[1;31m# float)` and `np.array(...).astype(float)` all convert \"0.5\" to 0.5.\u001b[0m\u001b[1;33m\u001b[0m\u001b[1;33m\u001b[0m\u001b[1;33m\u001b[0m\u001b[0m\n\u001b[0;32m    237\u001b[0m         \u001b[1;31m# Test dimensionality to reject single floats.\u001b[0m\u001b[1;33m\u001b[0m\u001b[1;33m\u001b[0m\u001b[1;33m\u001b[0m\u001b[0m\n\u001b[1;32m--> 238\u001b[1;33m         \u001b[1;32mraise\u001b[0m \u001b[0mValueError\u001b[0m\u001b[1;33m(\u001b[0m\u001b[1;34m\"Invalid RGBA argument: {!r}\"\u001b[0m\u001b[1;33m.\u001b[0m\u001b[0mformat\u001b[0m\u001b[1;33m(\u001b[0m\u001b[0morig_c\u001b[0m\u001b[1;33m)\u001b[0m\u001b[1;33m)\u001b[0m\u001b[1;33m\u001b[0m\u001b[1;33m\u001b[0m\u001b[0m\n\u001b[0m\u001b[0;32m    239\u001b[0m     \u001b[1;31m# Return a tuple to prevent the cached value from being modified.\u001b[0m\u001b[1;33m\u001b[0m\u001b[1;33m\u001b[0m\u001b[1;33m\u001b[0m\u001b[0m\n\u001b[0;32m    240\u001b[0m     \u001b[0mc\u001b[0m \u001b[1;33m=\u001b[0m \u001b[0mtuple\u001b[0m\u001b[1;33m(\u001b[0m\u001b[0mc\u001b[0m\u001b[1;33m.\u001b[0m\u001b[0mastype\u001b[0m\u001b[1;33m(\u001b[0m\u001b[0mfloat\u001b[0m\u001b[1;33m)\u001b[0m\u001b[1;33m)\u001b[0m\u001b[1;33m\u001b[0m\u001b[1;33m\u001b[0m\u001b[0m\n",
      "\u001b[1;31mValueError\u001b[0m: Invalid RGBA argument: ((0.0, 1.0, 1.0), (0.1, 1.0, 1.0), (0.4, 1.0, 1.0), (1.0, 0.0, 0.0))"
     ]
    },
    {
     "data": {
      "image/png": "[encoded data removed]",
      "text/plain": [
       "<Figure size 216x216 with 1 Axes>"
      ]
     },
     "metadata": {
      "needs_background": "light"
     },
     "output_type": "display_data"
    }
   ],
   "source": [
    "import matplotlib.colors\n",
    "\n",
    "#reading te image file\n",
    "\n",
    "from matplotlib.image import imread\n",
    "img = imread('dont-own-tv-small.png')\n",
    "# note: rows x columns x colors (not width x height!)\n",
    "Q = img[65:78,265:280,1] # select color channel 2, G; and also slicing the red arrow head\n",
    "## create coordinate matrix\n",
    "xx, yy = np.meshgrid(np.arange(Q.shape[1]),\n",
    "np.arange(Q.shape[0], 0, -1))\n",
    "X = np.stack((xx.ravel(), yy.ravel()), axis=1)\n",
    "fig = plt.figure(figsize=(3,3))\n",
    "ax = fig.add_subplot(1,1,1)\n",
    "ax.scatter(X[:,0], X[:,1], c=Q.ravel(), marker='.', cmap=matplotlib.colors.LinearSegmentedColormap.from_list(\"\", [cdict[\"red\"],cdict[\"green\"],cdict[\"blue\"]]))\n",
    "ax.set_aspect('equal')\n",
    "plt.show()\n"
   ]
  },
  {
   "cell_type": "code",
   "execution_count": null,
   "metadata": {},
   "outputs": [],
   "source": []
  }
 ],
 "metadata": {
  "kernelspec": {
   "display_name": "Python 3",
   "language": "python",
   "name": "python3"
  },
  "language_info": {
   "codemirror_mode": {
    "name": "ipython",
    "version": 3
   },
   "file_extension": ".py",
   "mimetype": "text/x-python",
   "name": "python",
   "nbconvert_exporter": "python",
   "pygments_lexer": "ipython3",
   "version": "3.7.3"
  }
 },
 "nbformat": 4,
 "nbformat_minor": 2
}
