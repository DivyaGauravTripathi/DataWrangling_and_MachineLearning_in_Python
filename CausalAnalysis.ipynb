{
 "cells": [
  {
   "cell_type": "code",
   "execution_count": 1,
   "metadata": {},
   "outputs": [
    {
     "name": "stdout",
     "output_type": "stream",
     "text": [
      "IPython version:       7.6.1 (need at least 1.0)\n",
      "Numpy version:        1.16.4 (need at least 1.7.1)\n",
      "SciPy version:         1.2.1 (need at least 0.12.0)\n",
      "Pandas version:       0.24.2 (need at least 0.11.0)\n",
      "Mapltolib version:     3.1.0 (need at least 1.2.1)\n",
      "Scikit-Learn version: 0.21.2 (need at least 0.13.1)\n"
     ]
    }
   ],
   "source": [
    "#IPython is what you are using now to run the notebook\n",
    "import IPython\n",
    "print( \"IPython version:      %6.6s (need at least 1.0)\" % IPython.__version__)\n",
    "\n",
    "# Numpy is a library for working with arrays and matrices\n",
    "import numpy as np\n",
    "print( \"Numpy version:        %6.6s (need at least 1.7.1)\" % np.__version__)\n",
    "\n",
    "# SciPy implements many different numerical algorithms\n",
    "import scipy as sp\n",
    "print( \"SciPy version:        %6.6s (need at least 0.12.0)\" % sp.__version__)\n",
    "\n",
    "# Pandas makes working with data tables easier\n",
    "import pandas as pd\n",
    "print( \"Pandas version:       %6.6s (need at least 0.11.0)\" % pd.__version__)\n",
    "\n",
    "# Module for plotting\n",
    "import matplotlib.pyplot as plt  \n",
    "from pylab import *\n",
    "print( \"Mapltolib version:    %6.6s (need at least 1.2.1)\" %\n",
    "       matplotlib.__version__)\n",
    "%matplotlib inline\n",
    "# necessary for in-line graphics\n",
    "\n",
    "# SciKit Learn implements several Machine Learning algorithms\n",
    "import sklearn\n",
    "print( \"Scikit-Learn version: %6.6s (need at least 0.13.1)\" %\n",
    "       sklearn.__version__)\n",
    "import os\n",
    "\n",
    "\n",
    "# for certain system-related functions\n",
    "\n",
    "from scipy import stats\n",
    "\n",
    "import statsmodels.formula.api as smf\n"
   ]
  },
  {
   "cell_type": "code",
   "execution_count": 2,
   "metadata": {},
   "outputs": [],
   "source": [
    "#data = pd.read_csv(\"progresa-sample.csv\", sep=\",\")\n",
    "data = pd.read_csv(\"progresa-sample.csv\")"
   ]
  },
  {
   "cell_type": "code",
   "execution_count": 3,
   "metadata": {},
   "outputs": [
    {
     "data": {
      "text/plain": [
       "(77250, 21)"
      ]
     },
     "execution_count": 3,
     "metadata": {},
     "output_type": "execute_result"
    }
   ],
   "source": [
    "data.shape"
   ]
  },
  {
   "cell_type": "markdown",
   "metadata": {},
   "source": [
    "**Q1. First, learn about data.**"
   ]
  },
  {
   "cell_type": "markdown",
   "metadata": {},
   "source": [
    "***Q1.1 Report summary statistics (mean, standard deviation, and number of missings) for all of the demo-\n",
    "graphic variables in the dataset (i.e., everything except year, folnum, village). A central variable,\n",
    "progresa is coded in a rather unintuitive way. Find it's actual coding scheme. Does this fit with the\n",
    "documentation above?\n",
    "Present these in a single table alphabetized by variable name. Do NOT simply expect the grader to\n",
    "scroll through your output!***"
   ]
  },
  {
   "cell_type": "code",
   "execution_count": 4,
   "metadata": {},
   "outputs": [
    {
     "data": {
      "text/plain": [
       "Index(['year', 'sex', 'indig', 'dist_sec', 'sc', 'grc', 'fam_n', 'min_dist',\n",
       "       'dist_cap', 'poor', 'progresa', 'hohedu', 'hohwag', 'welfare_index',\n",
       "       'hohsex', 'hohage', 'age', 'village', 'folnum', 'grc97', 'sc97'],\n",
       "      dtype='object')"
      ]
     },
     "execution_count": 4,
     "metadata": {},
     "output_type": "execute_result"
    }
   ],
   "source": [
    "data.columns"
   ]
  },
  {
   "cell_type": "code",
   "execution_count": 5,
   "metadata": {},
   "outputs": [
    {
     "data": {
      "text/plain": [
       "8453"
      ]
     },
     "execution_count": 5,
     "metadata": {},
     "output_type": "execute_result"
    }
   ],
   "source": [
    "data.sc.isnull().sum()"
   ]
  },
  {
   "cell_type": "code",
   "execution_count": 6,
   "metadata": {},
   "outputs": [
    {
     "data": {
      "text/plain": [
       "array(['0', 'basal'], dtype=object)"
      ]
     },
     "execution_count": 6,
     "metadata": {},
     "output_type": "execute_result"
    }
   ],
   "source": [
    "data['progresa'].unique()"
   ]
  },
  {
   "cell_type": "code",
   "execution_count": 7,
   "metadata": {},
   "outputs": [
    {
     "data": {
      "text/plain": [
       "array(['pobre', 'no pobre'], dtype=object)"
      ]
     },
     "execution_count": 7,
     "metadata": {},
     "output_type": "execute_result"
    }
   ],
   "source": [
    "data['poor'].unique()"
   ]
  },
  {
   "cell_type": "code",
   "execution_count": 8,
   "metadata": {},
   "outputs": [
    {
     "data": {
      "text/plain": [
       "\"Progresa column has two values- 'basal' for treatment and  0 for control. It means basal is put for those villages who received the subsidy.\\nAnd 0 is for those villages who did not receive the subsidy.It is dividing in tretment nad control groups.\\n\\n\""
      ]
     },
     "execution_count": 8,
     "metadata": {},
     "output_type": "execute_result"
    }
   ],
   "source": [
    "\"\"\"Progresa column has two values- 'basal' for treatment and  0 for control. It means basal is put for those villages who received the subsidy.\n",
    "And 0 is for those villages who did not receive the subsidy.It is dividing in tretment nad control groups.\n",
    "\n",
    "\"\"\""
   ]
  },
  {
   "cell_type": "code",
   "execution_count": 9,
   "metadata": {},
   "outputs": [
    {
     "data": {
      "text/plain": [
       "'poor also has two variables - pobre and no pobre. pobre is for those families which were categorised as poor and non pobre for those which were categorised non poor.\\nIt is blocking the objects in treatment and control groups into two groups.'"
      ]
     },
     "execution_count": 9,
     "metadata": {},
     "output_type": "execute_result"
    }
   ],
   "source": [
    "\"\"\"poor also has two variables - pobre and no pobre. pobre is for those families which were categorised as poor and non pobre for those which were categorised non poor.\n",
    "It is blocking the objects in treatment and control groups into two groups.\"\"\""
   ]
  },
  {
   "cell_type": "code",
   "execution_count": 10,
   "metadata": {},
   "outputs": [],
   "source": [
    "#We would change the values in Progressa- 1 for treatment(basal) and 0 for control\n",
    "#We would also change the values in poor- 1 for poor and 0 for non poor"
   ]
  },
  {
   "cell_type": "code",
   "execution_count": 11,
   "metadata": {},
   "outputs": [],
   "source": [
    "df = data.copy()"
   ]
  },
  {
   "cell_type": "code",
   "execution_count": 12,
   "metadata": {},
   "outputs": [
    {
     "data": {
      "text/plain": [
       "(77250, 21)"
      ]
     },
     "execution_count": 12,
     "metadata": {},
     "output_type": "execute_result"
    }
   ],
   "source": [
    "data.shape"
   ]
  },
  {
   "cell_type": "code",
   "execution_count": 13,
   "metadata": {},
   "outputs": [],
   "source": [
    "df.progresa.replace(['0', 'basal'], [0, 1], inplace=True) #changing pregresa column values- 1 for treatment, 0 for control"
   ]
  },
  {
   "cell_type": "code",
   "execution_count": 14,
   "metadata": {},
   "outputs": [],
   "source": [
    "df.poor.replace(['pobre', 'no pobre'], [1, 0], inplace=True) #changing poor column values- 1 for poor, 0 for non poor"
   ]
  },
  {
   "cell_type": "code",
   "execution_count": null,
   "metadata": {},
   "outputs": [],
   "source": []
  },
  {
   "cell_type": "code",
   "execution_count": 15,
   "metadata": {},
   "outputs": [],
   "source": [
    "#creating an empty data frame for summary statistics- variable, mean, standard deviation, number of missing values\n",
    "summary = pd.DataFrame(columns=['variable', 'mean', 'standard_deviation','num_missingvalues'])"
   ]
  },
  {
   "cell_type": "code",
   "execution_count": null,
   "metadata": {},
   "outputs": [],
   "source": []
  },
  {
   "cell_type": "code",
   "execution_count": 16,
   "metadata": {},
   "outputs": [],
   "source": [
    "#Creating a list of variables for which we have to find summary, this has all the variables except year, folnum, village\n",
    "variables = ['sex', 'indig', 'dist_sec', 'sc', 'grc', 'fam_n', 'min_dist',\n",
    "       'dist_cap', 'poor', 'progresa', 'hohedu', 'hohwag', 'welfare_index',\n",
    "       'hohsex', 'hohage', 'age',  'grc97', 'sc97']"
   ]
  },
  {
   "cell_type": "code",
   "execution_count": 17,
   "metadata": {},
   "outputs": [],
   "source": [
    "for variable in variables:\n",
    "    mean = df[variable].mean()\n",
    "    stdev = df[variable].std()\n",
    "    num_of_missing_values = df[variable].isnull().sum()\n",
    "    summary = summary.append({'variable' : variable , 'mean' : mean, 'standard_deviation':stdev, 'num_missingvalues':num_of_missing_values } , ignore_index=True)\n",
    "    \n",
    "    \n",
    "    "
   ]
  },
  {
   "cell_type": "code",
   "execution_count": 18,
   "metadata": {},
   "outputs": [
    {
     "data": {
      "text/html": [
       "<div>\n",
       "<style scoped>\n",
       "    .dataframe tbody tr th:only-of-type {\n",
       "        vertical-align: middle;\n",
       "    }\n",
       "\n",
       "    .dataframe tbody tr th {\n",
       "        vertical-align: top;\n",
       "    }\n",
       "\n",
       "    .dataframe thead th {\n",
       "        text-align: right;\n",
       "    }\n",
       "</style>\n",
       "<table border=\"1\" class=\"dataframe\">\n",
       "  <thead>\n",
       "    <tr style=\"text-align: right;\">\n",
       "      <th></th>\n",
       "      <th>variable</th>\n",
       "      <th>mean</th>\n",
       "      <th>standard_deviation</th>\n",
       "      <th>num_missingvalues</th>\n",
       "    </tr>\n",
       "  </thead>\n",
       "  <tbody>\n",
       "    <tr>\n",
       "      <th>15</th>\n",
       "      <td>age</td>\n",
       "      <td>11.366460</td>\n",
       "      <td>3.167744</td>\n",
       "      <td>0</td>\n",
       "    </tr>\n",
       "    <tr>\n",
       "      <th>7</th>\n",
       "      <td>dist_cap</td>\n",
       "      <td>147.674452</td>\n",
       "      <td>76.063134</td>\n",
       "      <td>0</td>\n",
       "    </tr>\n",
       "    <tr>\n",
       "      <th>2</th>\n",
       "      <td>dist_sec</td>\n",
       "      <td>2.418910</td>\n",
       "      <td>2.234109</td>\n",
       "      <td>0</td>\n",
       "    </tr>\n",
       "    <tr>\n",
       "      <th>5</th>\n",
       "      <td>fam_n</td>\n",
       "      <td>7.215715</td>\n",
       "      <td>2.352900</td>\n",
       "      <td>0</td>\n",
       "    </tr>\n",
       "    <tr>\n",
       "      <th>4</th>\n",
       "      <td>grc</td>\n",
       "      <td>3.963537</td>\n",
       "      <td>2.499063</td>\n",
       "      <td>6549</td>\n",
       "    </tr>\n",
       "    <tr>\n",
       "      <th>16</th>\n",
       "      <td>grc97</td>\n",
       "      <td>3.705372</td>\n",
       "      <td>2.572387</td>\n",
       "      <td>0</td>\n",
       "    </tr>\n",
       "    <tr>\n",
       "      <th>14</th>\n",
       "      <td>hohage</td>\n",
       "      <td>44.436717</td>\n",
       "      <td>11.620372</td>\n",
       "      <td>10</td>\n",
       "    </tr>\n",
       "    <tr>\n",
       "      <th>10</th>\n",
       "      <td>hohedu</td>\n",
       "      <td>2.768104</td>\n",
       "      <td>2.656106</td>\n",
       "      <td>0</td>\n",
       "    </tr>\n",
       "    <tr>\n",
       "      <th>13</th>\n",
       "      <td>hohsex</td>\n",
       "      <td>0.925185</td>\n",
       "      <td>0.263095</td>\n",
       "      <td>20</td>\n",
       "    </tr>\n",
       "    <tr>\n",
       "      <th>11</th>\n",
       "      <td>hohwag</td>\n",
       "      <td>586.985312</td>\n",
       "      <td>788.133664</td>\n",
       "      <td>0</td>\n",
       "    </tr>\n",
       "    <tr>\n",
       "      <th>1</th>\n",
       "      <td>indig</td>\n",
       "      <td>0.298324</td>\n",
       "      <td>0.457525</td>\n",
       "      <td>300</td>\n",
       "    </tr>\n",
       "    <tr>\n",
       "      <th>6</th>\n",
       "      <td>min_dist</td>\n",
       "      <td>103.447520</td>\n",
       "      <td>42.089441</td>\n",
       "      <td>0</td>\n",
       "    </tr>\n",
       "    <tr>\n",
       "      <th>8</th>\n",
       "      <td>poor</td>\n",
       "      <td>0.846498</td>\n",
       "      <td>0.360473</td>\n",
       "      <td>0</td>\n",
       "    </tr>\n",
       "    <tr>\n",
       "      <th>9</th>\n",
       "      <td>progresa</td>\n",
       "      <td>0.615663</td>\n",
       "      <td>0.486441</td>\n",
       "      <td>0</td>\n",
       "    </tr>\n",
       "    <tr>\n",
       "      <th>3</th>\n",
       "      <td>sc</td>\n",
       "      <td>0.819818</td>\n",
       "      <td>0.384342</td>\n",
       "      <td>8453</td>\n",
       "    </tr>\n",
       "    <tr>\n",
       "      <th>17</th>\n",
       "      <td>sc97</td>\n",
       "      <td>0.813922</td>\n",
       "      <td>0.389172</td>\n",
       "      <td>3872</td>\n",
       "    </tr>\n",
       "    <tr>\n",
       "      <th>0</th>\n",
       "      <td>sex</td>\n",
       "      <td>0.512211</td>\n",
       "      <td>0.499854</td>\n",
       "      <td>24</td>\n",
       "    </tr>\n",
       "    <tr>\n",
       "      <th>12</th>\n",
       "      <td>welfare_index</td>\n",
       "      <td>690.346564</td>\n",
       "      <td>139.491130</td>\n",
       "      <td>210</td>\n",
       "    </tr>\n",
       "  </tbody>\n",
       "</table>\n",
       "</div>"
      ],
      "text/plain": [
       "         variable        mean  standard_deviation num_missingvalues\n",
       "15            age   11.366460            3.167744                 0\n",
       "7        dist_cap  147.674452           76.063134                 0\n",
       "2        dist_sec    2.418910            2.234109                 0\n",
       "5           fam_n    7.215715            2.352900                 0\n",
       "4             grc    3.963537            2.499063              6549\n",
       "16          grc97    3.705372            2.572387                 0\n",
       "14         hohage   44.436717           11.620372                10\n",
       "10         hohedu    2.768104            2.656106                 0\n",
       "13         hohsex    0.925185            0.263095                20\n",
       "11         hohwag  586.985312          788.133664                 0\n",
       "1           indig    0.298324            0.457525               300\n",
       "6        min_dist  103.447520           42.089441                 0\n",
       "8            poor    0.846498            0.360473                 0\n",
       "9        progresa    0.615663            0.486441                 0\n",
       "3              sc    0.819818            0.384342              8453\n",
       "17           sc97    0.813922            0.389172              3872\n",
       "0             sex    0.512211            0.499854                24\n",
       "12  welfare_index  690.346564          139.491130               210"
      ]
     },
     "execution_count": 18,
     "metadata": {},
     "output_type": "execute_result"
    }
   ],
   "source": [
    "summary.sort_values(by=['variable'])"
   ]
  },
  {
   "cell_type": "code",
   "execution_count": 19,
   "metadata": {},
   "outputs": [
    {
     "data": {
      "text/plain": [
       "'This table gives the mean, standard deviation and number of missing values of all the columns.\\n'"
      ]
     },
     "execution_count": 19,
     "metadata": {},
     "output_type": "execute_result"
    }
   ],
   "source": [
    "\"\"\"This table gives the mean, standard deviation and number of missing values of all the columns.\n",
    "\"\"\""
   ]
  },
  {
   "cell_type": "markdown",
   "metadata": {},
   "source": [
    "**Q1.2- Now let's investigate the differences in baseline. Are the baseline (1997) demographic characteristics for\n",
    "the poor different in treatment and control villages?**"
   ]
  },
  {
   "cell_type": "markdown",
   "metadata": {},
   "source": [
    "***Q 1.2- 1- Use t-test to determine whether there is a statistically significant difference in the average\n",
    "values of each of the variables in the dataset. Focus only on the data from 1997 for poor.***"
   ]
  },
  {
   "cell_type": "markdown",
   "metadata": {},
   "source": [
    "We have to do t test for different values of the poors of treatment and control villages. We are only talking about 1997. The progresa column has 1 for treatment villages and 0 for control villages.\n"
   ]
  },
  {
   "cell_type": "code",
   "execution_count": 20,
   "metadata": {},
   "outputs": [],
   "source": [
    "#We would select only those rows which have poor family and year 1997\n",
    "poor_1997 = df[(df['poor'] == 1) & (df['year'] == 97)]"
   ]
  },
  {
   "cell_type": "code",
   "execution_count": 21,
   "metadata": {},
   "outputs": [],
   "source": [
    "#Question 1 told us to ignore year, folnum, village columns, so we would remove them. We would also remove year and poor columns.\n",
    "poor_1997 = poor_1997.drop(['year', 'folnum', 'village', 'poor'], axis = 1)\n"
   ]
  },
  {
   "cell_type": "code",
   "execution_count": 22,
   "metadata": {},
   "outputs": [],
   "source": [
    "#We would not make two subsets of data, treatment(progresa = 1) and control(progresa = 0)\n",
    "#We also drop the pregresa columns\n",
    "\n",
    "treatment = poor_1997[poor_1997['progresa'] == 1].drop(['progresa'],axis =1)\n",
    "\n",
    "control = poor_1997[poor_1997['progresa'] == 0].drop(['progresa'],axis =1)"
   ]
  },
  {
   "cell_type": "code",
   "execution_count": 23,
   "metadata": {},
   "outputs": [],
   "source": [
    "#creating an empty data frame to hold values from dictionary\n",
    "t_tests = pd.DataFrame(columns=['variable', 'avg_treatment_village', 'avg_control_village','difference', 'p_value'])"
   ]
  },
  {
   "cell_type": "code",
   "execution_count": 24,
   "metadata": {},
   "outputs": [
    {
     "data": {
      "text/plain": [
       "array([ True,  True,  True,  True,  True,  True,  True,  True,  True,\n",
       "        True,  True,  True,  True,  True,  True,  True])"
      ]
     },
     "execution_count": 24,
     "metadata": {},
     "output_type": "execute_result"
    }
   ],
   "source": [
    "treatment.columns == control.columns\n",
    "\n",
    "#This tells that the columns in treatment and control data frames are not different"
   ]
  },
  {
   "cell_type": "code",
   "execution_count": 25,
   "metadata": {},
   "outputs": [],
   "source": [
    "from scipy import stats\n",
    "for column in treatment.columns:\n",
    "    \n",
    "    \n",
    "    #variables_dictionary[\"variable\"] = column\n",
    "    \n",
    "    avg_treatment = round(treatment[column].dropna().mean(),6) #finding mean of that column for treatment villages\n",
    "    \n",
    "    \n",
    "    avg_control = round(control[column].dropna().mean(),6) #finding average of that column for control voillages\n",
    "    \n",
    "    \n",
    "    diff = avg_treatment - avg_control #finding the difference\n",
    "    \n",
    "    \n",
    "    stat1 = stats.ttest_ind(treatment[column].dropna(),control[column].dropna(), equal_var = False) #doing the t test\n",
    "    p_value = stat1[1]\n",
    "    \n",
    "    \n",
    "    t_tests = t_tests.append({'variable':column, 'avg_treatment_village': avg_treatment, 'avg_control_village': avg_control,'difference': diff, 'p_value':p_value } , ignore_index=True)\n",
    "    \n",
    "    \n",
    "    "
   ]
  },
  {
   "cell_type": "markdown",
   "metadata": {},
   "source": [
    "***Q1.2.2- Present your results in a single table with the following columns and 14 (or so) rows:***"
   ]
  },
  {
   "cell_type": "code",
   "execution_count": 26,
   "metadata": {},
   "outputs": [
    {
     "data": {
      "text/html": [
       "<div>\n",
       "<style scoped>\n",
       "    .dataframe tbody tr th:only-of-type {\n",
       "        vertical-align: middle;\n",
       "    }\n",
       "\n",
       "    .dataframe tbody tr th {\n",
       "        vertical-align: top;\n",
       "    }\n",
       "\n",
       "    .dataframe thead th {\n",
       "        text-align: right;\n",
       "    }\n",
       "</style>\n",
       "<table border=\"1\" class=\"dataframe\">\n",
       "  <thead>\n",
       "    <tr style=\"text-align: right;\">\n",
       "      <th></th>\n",
       "      <th>variable</th>\n",
       "      <th>avg_treatment_village</th>\n",
       "      <th>avg_control_village</th>\n",
       "      <th>difference</th>\n",
       "      <th>p_value</th>\n",
       "    </tr>\n",
       "  </thead>\n",
       "  <tbody>\n",
       "    <tr>\n",
       "      <th>0</th>\n",
       "      <td>sex</td>\n",
       "      <td>0.519317</td>\n",
       "      <td>0.505052</td>\n",
       "      <td>0.014265</td>\n",
       "      <td>1.220744e-02</td>\n",
       "    </tr>\n",
       "    <tr>\n",
       "      <th>1</th>\n",
       "      <td>indig</td>\n",
       "      <td>0.325986</td>\n",
       "      <td>0.332207</td>\n",
       "      <td>-0.006221</td>\n",
       "      <td>2.459021e-01</td>\n",
       "    </tr>\n",
       "    <tr>\n",
       "      <th>2</th>\n",
       "      <td>dist_sec</td>\n",
       "      <td>2.453122</td>\n",
       "      <td>2.507662</td>\n",
       "      <td>-0.054540</td>\n",
       "      <td>4.266282e-02</td>\n",
       "    </tr>\n",
       "    <tr>\n",
       "      <th>3</th>\n",
       "      <td>sc</td>\n",
       "      <td>0.822697</td>\n",
       "      <td>0.815186</td>\n",
       "      <td>0.007511</td>\n",
       "      <td>9.646120e-02</td>\n",
       "    </tr>\n",
       "    <tr>\n",
       "      <th>4</th>\n",
       "      <td>grc</td>\n",
       "      <td>3.531599</td>\n",
       "      <td>3.543050</td>\n",
       "      <td>-0.011451</td>\n",
       "      <td>6.895228e-01</td>\n",
       "    </tr>\n",
       "    <tr>\n",
       "      <th>5</th>\n",
       "      <td>fam_n</td>\n",
       "      <td>7.281327</td>\n",
       "      <td>7.302469</td>\n",
       "      <td>-0.021142</td>\n",
       "      <td>4.289667e-01</td>\n",
       "    </tr>\n",
       "    <tr>\n",
       "      <th>6</th>\n",
       "      <td>min_dist</td>\n",
       "      <td>107.152915</td>\n",
       "      <td>103.237854</td>\n",
       "      <td>3.915061</td>\n",
       "      <td>7.055795e-16</td>\n",
       "    </tr>\n",
       "    <tr>\n",
       "      <th>7</th>\n",
       "      <td>dist_cap</td>\n",
       "      <td>150.829074</td>\n",
       "      <td>153.769730</td>\n",
       "      <td>-2.940656</td>\n",
       "      <td>1.146482e-03</td>\n",
       "    </tr>\n",
       "    <tr>\n",
       "      <th>8</th>\n",
       "      <td>hohedu</td>\n",
       "      <td>2.663139</td>\n",
       "      <td>2.590348</td>\n",
       "      <td>0.072791</td>\n",
       "      <td>1.038219e-02</td>\n",
       "    </tr>\n",
       "    <tr>\n",
       "      <th>9</th>\n",
       "      <td>hohwag</td>\n",
       "      <td>544.339544</td>\n",
       "      <td>573.163558</td>\n",
       "      <td>-28.824014</td>\n",
       "      <td>3.287285e-04</td>\n",
       "    </tr>\n",
       "    <tr>\n",
       "      <th>10</th>\n",
       "      <td>welfare_index</td>\n",
       "      <td>655.428377</td>\n",
       "      <td>659.579100</td>\n",
       "      <td>-4.150723</td>\n",
       "      <td>1.531678e-03</td>\n",
       "    </tr>\n",
       "    <tr>\n",
       "      <th>11</th>\n",
       "      <td>hohsex</td>\n",
       "      <td>0.924656</td>\n",
       "      <td>0.922947</td>\n",
       "      <td>0.001709</td>\n",
       "      <td>5.721253e-01</td>\n",
       "    </tr>\n",
       "    <tr>\n",
       "      <th>12</th>\n",
       "      <td>hohage</td>\n",
       "      <td>43.648828</td>\n",
       "      <td>44.276918</td>\n",
       "      <td>-0.628090</td>\n",
       "      <td>2.259461e-06</td>\n",
       "    </tr>\n",
       "    <tr>\n",
       "      <th>13</th>\n",
       "      <td>age</td>\n",
       "      <td>10.716991</td>\n",
       "      <td>10.742023</td>\n",
       "      <td>-0.025032</td>\n",
       "      <td>4.783633e-01</td>\n",
       "    </tr>\n",
       "    <tr>\n",
       "      <th>14</th>\n",
       "      <td>grc97</td>\n",
       "      <td>3.531599</td>\n",
       "      <td>3.543050</td>\n",
       "      <td>-0.011451</td>\n",
       "      <td>6.895228e-01</td>\n",
       "    </tr>\n",
       "    <tr>\n",
       "      <th>15</th>\n",
       "      <td>sc97</td>\n",
       "      <td>0.822697</td>\n",
       "      <td>0.815186</td>\n",
       "      <td>0.007511</td>\n",
       "      <td>9.646120e-02</td>\n",
       "    </tr>\n",
       "  </tbody>\n",
       "</table>\n",
       "</div>"
      ],
      "text/plain": [
       "         variable  avg_treatment_village  avg_control_village  difference  \\\n",
       "0             sex               0.519317             0.505052    0.014265   \n",
       "1           indig               0.325986             0.332207   -0.006221   \n",
       "2        dist_sec               2.453122             2.507662   -0.054540   \n",
       "3              sc               0.822697             0.815186    0.007511   \n",
       "4             grc               3.531599             3.543050   -0.011451   \n",
       "5           fam_n               7.281327             7.302469   -0.021142   \n",
       "6        min_dist             107.152915           103.237854    3.915061   \n",
       "7        dist_cap             150.829074           153.769730   -2.940656   \n",
       "8          hohedu               2.663139             2.590348    0.072791   \n",
       "9          hohwag             544.339544           573.163558  -28.824014   \n",
       "10  welfare_index             655.428377           659.579100   -4.150723   \n",
       "11         hohsex               0.924656             0.922947    0.001709   \n",
       "12         hohage              43.648828            44.276918   -0.628090   \n",
       "13            age              10.716991            10.742023   -0.025032   \n",
       "14          grc97               3.531599             3.543050   -0.011451   \n",
       "15           sc97               0.822697             0.815186    0.007511   \n",
       "\n",
       "         p_value  \n",
       "0   1.220744e-02  \n",
       "1   2.459021e-01  \n",
       "2   4.266282e-02  \n",
       "3   9.646120e-02  \n",
       "4   6.895228e-01  \n",
       "5   4.289667e-01  \n",
       "6   7.055795e-16  \n",
       "7   1.146482e-03  \n",
       "8   1.038219e-02  \n",
       "9   3.287285e-04  \n",
       "10  1.531678e-03  \n",
       "11  5.721253e-01  \n",
       "12  2.259461e-06  \n",
       "13  4.783633e-01  \n",
       "14  6.895228e-01  \n",
       "15  9.646120e-02  "
      ]
     },
     "execution_count": 26,
     "metadata": {},
     "output_type": "execute_result"
    }
   ],
   "source": [
    "t_tests\n",
    "\n",
    "#The t_tests data frame has all the variables, its average for treatment villages, its average for control villages, difference in the averages and p_value from t -test"
   ]
  },
  {
   "cell_type": "markdown",
   "metadata": {},
   "source": [
    "The estimators like sex,indig,dist_sec,min_dist,hoage,age have statistically significant value even before the treatment. we did a t test and their p-value is less than 0.05"
   ]
  },
  {
   "cell_type": "markdown",
   "metadata": {},
   "source": [
    "***Q1.2.3- Do you find any statistically significant differences between treatment and control villages as\n",
    "baseline?***"
   ]
  },
  {
   "cell_type": "markdown",
   "metadata": {},
   "source": [
    "The estimators like sex,indig,dist_sec,min_dist,hoage,age have statistically significant value even before the treatment. we did a t test and their p-value is less than 0.05. So these variables between treatment and control groups are statistically significantly different at the baseline."
   ]
  },
  {
   "cell_type": "markdown",
   "metadata": {},
   "source": [
    "***Q1.2.4 Why does it matter if there are differences at baseline?***"
   ]
  },
  {
   "cell_type": "markdown",
   "metadata": {},
   "source": [
    "If these predictors are different at baseline, so our causal inference is supicious. It has an inherent bias. The change that we observe might not be just because of the experiment. The intial differences would have an impact on the experiment.\n",
    "Our main assumption is that external factors do not affect our treatment or control groups. If there is difference at the baseline, which means the sampling which we did has biased samples."
   ]
  },
  {
   "cell_type": "markdown",
   "metadata": {},
   "source": [
    "***Q1.2.5 What does this imply about how to measure the impact of the treatment?***"
   ]
  },
  {
   "cell_type": "markdown",
   "metadata": {},
   "source": [
    "It implies that the causal inference which we do may not be totally correct. The indicators have a difference at baseline, this means that even afyter randomisation there would be bias and the effect of exyternal factors in our tests."
   ]
  },
  {
   "cell_type": "code",
   "execution_count": null,
   "metadata": {},
   "outputs": [],
   "source": []
  },
  {
   "cell_type": "markdown",
   "metadata": {},
   "source": [
    "**2.1 First, implement the before-after estimator. Compare the schooling rate of poor households in progresa\n",
    "villages before (i.e. 1997) and after (i.e. 1998) the program.**"
   ]
  },
  {
   "cell_type": "markdown",
   "metadata": {},
   "source": [
    "***Q2.1.1 compute the estimator by just comparing the average schooling rates for these villages.***"
   ]
  },
  {
   "cell_type": "code",
   "execution_count": 27,
   "metadata": {},
   "outputs": [],
   "source": [
    "#We have to compute before(1997)- after(1998) for Progresa(treatmet) villages. We only have to compute for poor househilds as only they received the treatment.\n",
    "\n",
    "#We have to clean the dataset and apply filter for getting required rows, we only select rows having progresa = 1 and poor = 1\n",
    "before_after = df[(df['progresa'] ==1) & (df['poor'] ==1)]"
   ]
  },
  {
   "cell_type": "code",
   "execution_count": 55,
   "metadata": {},
   "outputs": [
    {
     "data": {
      "text/plain": [
       "(77250, 21)"
      ]
     },
     "execution_count": 55,
     "metadata": {},
     "output_type": "execute_result"
    }
   ],
   "source": [
    "df.shape"
   ]
  },
  {
   "cell_type": "code",
   "execution_count": null,
   "metadata": {},
   "outputs": [],
   "source": []
  },
  {
   "cell_type": "code",
   "execution_count": 56,
   "metadata": {},
   "outputs": [
    {
     "data": {
      "text/html": [
       "<div>\n",
       "<style scoped>\n",
       "    .dataframe tbody tr th:only-of-type {\n",
       "        vertical-align: middle;\n",
       "    }\n",
       "\n",
       "    .dataframe tbody tr th {\n",
       "        vertical-align: top;\n",
       "    }\n",
       "\n",
       "    .dataframe thead th {\n",
       "        text-align: right;\n",
       "    }\n",
       "</style>\n",
       "<table border=\"1\" class=\"dataframe\">\n",
       "  <thead>\n",
       "    <tr style=\"text-align: right;\">\n",
       "      <th></th>\n",
       "      <th>sc</th>\n",
       "    </tr>\n",
       "    <tr>\n",
       "      <th>year</th>\n",
       "      <th></th>\n",
       "    </tr>\n",
       "  </thead>\n",
       "  <tbody>\n",
       "    <tr>\n",
       "      <th>97</th>\n",
       "      <td>0.822697</td>\n",
       "    </tr>\n",
       "    <tr>\n",
       "      <th>98</th>\n",
       "      <td>0.846479</td>\n",
       "    </tr>\n",
       "  </tbody>\n",
       "</table>\n",
       "</div>"
      ],
      "text/plain": [
       "            sc\n",
       "year          \n",
       "97    0.822697\n",
       "98    0.846479"
      ]
     },
     "execution_count": 56,
     "metadata": {},
     "output_type": "execute_result"
    }
   ],
   "source": [
    "#We would group by year and find mean of sc\n",
    "\n",
    "sc_rate_mean = before_after[['sc','year']].groupby(['year']).mean()\n",
    "\n",
    "#sc_rate_mean = progresa_before_after.groupby('year').sc.mean()\n",
    "\n",
    "sc_rate_mean"
   ]
  },
  {
   "cell_type": "code",
   "execution_count": 58,
   "metadata": {},
   "outputs": [
    {
     "data": {
      "text/plain": [
       "0.02378199999999997"
      ]
     },
     "execution_count": 58,
     "metadata": {},
     "output_type": "execute_result"
    }
   ],
   "source": [
    "increase_in_schooling = 0.846479 - 0.822697\n",
    "increase_in_schooling"
   ]
  },
  {
   "cell_type": "code",
   "execution_count": 62,
   "metadata": {},
   "outputs": [],
   "source": [
    "\n",
    "#We find that the before schooling rate was 0.822697; the after schooling rate was 0.846479\n",
    "#The difference in means = 0.02378\n",
    "#We can say that there was 2.378% increasing in schooling rate after the treatment."
   ]
  },
  {
   "cell_type": "markdown",
   "metadata": {},
   "source": [
    "***Q2.1.2 - now re-compute the estimator using linear regression, and individual schooling rates. Do not\n",
    "include other regressors.***"
   ]
  },
  {
   "cell_type": "code",
   "execution_count": 61,
   "metadata": {
    "scrolled": false
   },
   "outputs": [
    {
     "data": {
      "text/html": [
       "<table class=\"simpletable\">\n",
       "<caption>OLS Regression Results</caption>\n",
       "<tr>\n",
       "  <th>Dep. Variable:</th>           <td>sc</td>        <th>  R-squared:         </th> <td>   0.001</td> \n",
       "</tr>\n",
       "<tr>\n",
       "  <th>Model:</th>                   <td>OLS</td>       <th>  Adj. R-squared:    </th> <td>   0.001</td> \n",
       "</tr>\n",
       "<tr>\n",
       "  <th>Method:</th>             <td>Least Squares</td>  <th>  F-statistic:       </th> <td>   36.84</td> \n",
       "</tr>\n",
       "<tr>\n",
       "  <th>Date:</th>             <td>Thu, 06 Feb 2020</td> <th>  Prob (F-statistic):</th> <td>1.30e-09</td> \n",
       "</tr>\n",
       "<tr>\n",
       "  <th>Time:</th>                 <td>19:41:24</td>     <th>  Log-Likelihood:    </th> <td> -15557.</td> \n",
       "</tr>\n",
       "<tr>\n",
       "  <th>No. Observations:</th>      <td> 36175</td>      <th>  AIC:               </th> <td>3.112e+04</td>\n",
       "</tr>\n",
       "<tr>\n",
       "  <th>Df Residuals:</th>          <td> 36173</td>      <th>  BIC:               </th> <td>3.113e+04</td>\n",
       "</tr>\n",
       "<tr>\n",
       "  <th>Df Model:</th>              <td>     1</td>      <th>                     </th>     <td> </td>    \n",
       "</tr>\n",
       "<tr>\n",
       "  <th>Covariance Type:</th>      <td>nonrobust</td>    <th>                     </th>     <td> </td>    \n",
       "</tr>\n",
       "</table>\n",
       "<table class=\"simpletable\">\n",
       "<tr>\n",
       "      <td></td>         <th>coef</th>     <th>std err</th>      <th>t</th>      <th>P>|t|</th>  <th>[0.025</th>    <th>0.975]</th>  \n",
       "</tr>\n",
       "<tr>\n",
       "  <th>Intercept</th> <td>   -1.4842</td> <td>    0.382</td> <td>   -3.886</td> <td> 0.000</td> <td>   -2.233</td> <td>   -0.736</td>\n",
       "</tr>\n",
       "<tr>\n",
       "  <th>year</th>      <td>    0.0238</td> <td>    0.004</td> <td>    6.069</td> <td> 0.000</td> <td>    0.016</td> <td>    0.031</td>\n",
       "</tr>\n",
       "</table>\n",
       "<table class=\"simpletable\">\n",
       "<tr>\n",
       "  <th>Omnibus:</th>       <td>10294.733</td> <th>  Durbin-Watson:     </th> <td>   1.394</td> \n",
       "</tr>\n",
       "<tr>\n",
       "  <th>Prob(Omnibus):</th>  <td> 0.000</td>   <th>  Jarque-Bera (JB):  </th> <td>21582.139</td>\n",
       "</tr>\n",
       "<tr>\n",
       "  <th>Skew:</th>           <td>-1.791</td>   <th>  Prob(JB):          </th> <td>    0.00</td> \n",
       "</tr>\n",
       "<tr>\n",
       "  <th>Kurtosis:</th>       <td> 4.217</td>   <th>  Cond. No.          </th> <td>1.90e+04</td> \n",
       "</tr>\n",
       "</table><br/><br/>Warnings:<br/>[1] Standard Errors assume that the covariance matrix of the errors is correctly specified.<br/>[2] The condition number is large, 1.9e+04. This might indicate that there are<br/>strong multicollinearity or other numerical problems."
      ],
      "text/plain": [
       "<class 'statsmodels.iolib.summary.Summary'>\n",
       "\"\"\"\n",
       "                            OLS Regression Results                            \n",
       "==============================================================================\n",
       "Dep. Variable:                     sc   R-squared:                       0.001\n",
       "Model:                            OLS   Adj. R-squared:                  0.001\n",
       "Method:                 Least Squares   F-statistic:                     36.84\n",
       "Date:                Thu, 06 Feb 2020   Prob (F-statistic):           1.30e-09\n",
       "Time:                        19:41:24   Log-Likelihood:                -15557.\n",
       "No. Observations:               36175   AIC:                         3.112e+04\n",
       "Df Residuals:                   36173   BIC:                         3.113e+04\n",
       "Df Model:                           1                                         \n",
       "Covariance Type:            nonrobust                                         \n",
       "==============================================================================\n",
       "                 coef    std err          t      P>|t|      [0.025      0.975]\n",
       "------------------------------------------------------------------------------\n",
       "Intercept     -1.4842      0.382     -3.886      0.000      -2.233      -0.736\n",
       "year           0.0238      0.004      6.069      0.000       0.016       0.031\n",
       "==============================================================================\n",
       "Omnibus:                    10294.733   Durbin-Watson:                   1.394\n",
       "Prob(Omnibus):                  0.000   Jarque-Bera (JB):            21582.139\n",
       "Skew:                          -1.791   Prob(JB):                         0.00\n",
       "Kurtosis:                       4.217   Cond. No.                     1.90e+04\n",
       "==============================================================================\n",
       "\n",
       "Warnings:\n",
       "[1] Standard Errors assume that the covariance matrix of the errors is correctly specified.\n",
       "[2] The condition number is large, 1.9e+04. This might indicate that there are\n",
       "strong multicollinearity or other numerical problems.\n",
       "\"\"\""
      ]
     },
     "execution_count": 61,
     "metadata": {},
     "output_type": "execute_result"
    }
   ],
   "source": [
    "#We would fit a linear regression model for sc as response variable and year as predictor variable to understand their relationship.\n",
    "m = smf.ols(formula = 'sc ~ year', data= before_after)\n",
    "r = m.fit()\n",
    "r.summary()"
   ]
  },
  {
   "cell_type": "code",
   "execution_count": 63,
   "metadata": {},
   "outputs": [],
   "source": [
    "#The p value is almost 0 for year, which tells it is statistically signioficant. \n",
    "#The value of coefficient of year = 0.0238, it is equal to what we had got earlier from finding the mean. It is the difference over time.\n",
    "#We would observe an increse of 0.0238 units in schooling rate(sc) for 1 unit increase in year."
   ]
  },
  {
   "cell_type": "markdown",
   "metadata": {},
   "source": [
    "***Q2.1.3 - Finally, estimate a multiple regression model that includes other covariates.***"
   ]
  },
  {
   "cell_type": "code",
   "execution_count": 34,
   "metadata": {},
   "outputs": [
    {
     "data": {
      "text/plain": [
       "Index(['year', 'sex', 'indig', 'dist_sec', 'sc', 'grc', 'fam_n', 'min_dist',\n",
       "       'dist_cap', 'poor', 'progresa', 'hohedu', 'hohwag', 'welfare_index',\n",
       "       'hohsex', 'hohage', 'age', 'village', 'folnum', 'grc97', 'sc97'],\n",
       "      dtype='object')"
      ]
     },
     "execution_count": 34,
     "metadata": {},
     "output_type": "execute_result"
    }
   ],
   "source": [
    "before_after.columns"
   ]
  },
  {
   "cell_type": "code",
   "execution_count": 64,
   "metadata": {},
   "outputs": [
    {
     "data": {
      "text/html": [
       "<table class=\"simpletable\">\n",
       "<caption>OLS Regression Results</caption>\n",
       "<tr>\n",
       "  <th>Dep. Variable:</th>           <td>sc</td>        <th>  R-squared:         </th> <td>   0.301</td> \n",
       "</tr>\n",
       "<tr>\n",
       "  <th>Model:</th>                   <td>OLS</td>       <th>  Adj. R-squared:    </th> <td>   0.301</td> \n",
       "</tr>\n",
       "<tr>\n",
       "  <th>Method:</th>             <td>Least Squares</td>  <th>  F-statistic:       </th> <td>   1108.</td> \n",
       "</tr>\n",
       "<tr>\n",
       "  <th>Date:</th>             <td>Thu, 06 Feb 2020</td> <th>  Prob (F-statistic):</th>  <td>  0.00</td>  \n",
       "</tr>\n",
       "<tr>\n",
       "  <th>Time:</th>                 <td>19:42:44</td>     <th>  Log-Likelihood:    </th> <td> -9044.6</td> \n",
       "</tr>\n",
       "<tr>\n",
       "  <th>No. Observations:</th>      <td> 35972</td>      <th>  AIC:               </th> <td>1.812e+04</td>\n",
       "</tr>\n",
       "<tr>\n",
       "  <th>Df Residuals:</th>          <td> 35957</td>      <th>  BIC:               </th> <td>1.825e+04</td>\n",
       "</tr>\n",
       "<tr>\n",
       "  <th>Df Model:</th>              <td>    14</td>      <th>                     </th>     <td> </td>    \n",
       "</tr>\n",
       "<tr>\n",
       "  <th>Covariance Type:</th>      <td>nonrobust</td>    <th>                     </th>     <td> </td>    \n",
       "</tr>\n",
       "</table>\n",
       "<table class=\"simpletable\">\n",
       "<tr>\n",
       "        <td></td>           <th>coef</th>     <th>std err</th>      <th>t</th>      <th>P>|t|</th>  <th>[0.025</th>    <th>0.975]</th>  \n",
       "</tr>\n",
       "<tr>\n",
       "  <th>Intercept</th>     <td>   -3.5391</td> <td>    0.323</td> <td>  -10.971</td> <td> 0.000</td> <td>   -4.171</td> <td>   -2.907</td>\n",
       "</tr>\n",
       "<tr>\n",
       "  <th>year</th>          <td>    0.0530</td> <td>    0.003</td> <td>   16.024</td> <td> 0.000</td> <td>    0.046</td> <td>    0.059</td>\n",
       "</tr>\n",
       "<tr>\n",
       "  <th>sex</th>           <td>    0.0361</td> <td>    0.003</td> <td>   10.998</td> <td> 0.000</td> <td>    0.030</td> <td>    0.043</td>\n",
       "</tr>\n",
       "<tr>\n",
       "  <th>indig</th>         <td>    0.0300</td> <td>    0.004</td> <td>    7.382</td> <td> 0.000</td> <td>    0.022</td> <td>    0.038</td>\n",
       "</tr>\n",
       "<tr>\n",
       "  <th>dist_sec</th>      <td>   -0.0067</td> <td>    0.001</td> <td>   -8.274</td> <td> 0.000</td> <td>   -0.008</td> <td>   -0.005</td>\n",
       "</tr>\n",
       "<tr>\n",
       "  <th>grc</th>           <td>    0.0473</td> <td>    0.001</td> <td>   37.148</td> <td> 0.000</td> <td>    0.045</td> <td>    0.050</td>\n",
       "</tr>\n",
       "<tr>\n",
       "  <th>fam_n</th>         <td>    0.0012</td> <td>    0.001</td> <td>    1.607</td> <td> 0.108</td> <td>   -0.000</td> <td>    0.003</td>\n",
       "</tr>\n",
       "<tr>\n",
       "  <th>min_dist</th>      <td>    0.0003</td> <td> 5.44e-05</td> <td>    5.413</td> <td> 0.000</td> <td>    0.000</td> <td>    0.000</td>\n",
       "</tr>\n",
       "<tr>\n",
       "  <th>dist_cap</th>      <td>    0.0002</td> <td> 3.29e-05</td> <td>    7.338</td> <td> 0.000</td> <td>    0.000</td> <td>    0.000</td>\n",
       "</tr>\n",
       "<tr>\n",
       "  <th>hohedu</th>        <td>    0.0031</td> <td>    0.001</td> <td>    4.183</td> <td> 0.000</td> <td>    0.002</td> <td>    0.005</td>\n",
       "</tr>\n",
       "<tr>\n",
       "  <th>hohwag</th>        <td> 2.023e-06</td> <td> 2.41e-06</td> <td>    0.839</td> <td> 0.401</td> <td> -2.7e-06</td> <td> 6.75e-06</td>\n",
       "</tr>\n",
       "<tr>\n",
       "  <th>welfare_index</th> <td>-3.586e-05</td> <td> 1.57e-05</td> <td>   -2.284</td> <td> 0.022</td> <td>-6.66e-05</td> <td>-5.09e-06</td>\n",
       "</tr>\n",
       "<tr>\n",
       "  <th>hohsex</th>        <td>   -0.0028</td> <td>    0.007</td> <td>   -0.432</td> <td> 0.666</td> <td>   -0.016</td> <td>    0.010</td>\n",
       "</tr>\n",
       "<tr>\n",
       "  <th>hohage</th>        <td>-8.056e-05</td> <td>    0.000</td> <td>   -0.476</td> <td> 0.634</td> <td>   -0.000</td> <td>    0.000</td>\n",
       "</tr>\n",
       "<tr>\n",
       "  <th>age</th>           <td>   -0.0950</td> <td>    0.001</td> <td>  -92.975</td> <td> 0.000</td> <td>   -0.097</td> <td>   -0.093</td>\n",
       "</tr>\n",
       "</table>\n",
       "<table class=\"simpletable\">\n",
       "<tr>\n",
       "  <th>Omnibus:</th>       <td>4343.381</td> <th>  Durbin-Watson:     </th> <td>   1.496</td>\n",
       "</tr>\n",
       "<tr>\n",
       "  <th>Prob(Omnibus):</th>  <td> 0.000</td>  <th>  Jarque-Bera (JB):  </th> <td>6103.523</td>\n",
       "</tr>\n",
       "<tr>\n",
       "  <th>Skew:</th>           <td>-0.957</td>  <th>  Prob(JB):          </th> <td>    0.00</td>\n",
       "</tr>\n",
       "<tr>\n",
       "  <th>Kurtosis:</th>       <td> 3.639</td>  <th>  Cond. No.          </th> <td>2.01e+05</td>\n",
       "</tr>\n",
       "</table><br/><br/>Warnings:<br/>[1] Standard Errors assume that the covariance matrix of the errors is correctly specified.<br/>[2] The condition number is large, 2.01e+05. This might indicate that there are<br/>strong multicollinearity or other numerical problems."
      ],
      "text/plain": [
       "<class 'statsmodels.iolib.summary.Summary'>\n",
       "\"\"\"\n",
       "                            OLS Regression Results                            \n",
       "==============================================================================\n",
       "Dep. Variable:                     sc   R-squared:                       0.301\n",
       "Model:                            OLS   Adj. R-squared:                  0.301\n",
       "Method:                 Least Squares   F-statistic:                     1108.\n",
       "Date:                Thu, 06 Feb 2020   Prob (F-statistic):               0.00\n",
       "Time:                        19:42:44   Log-Likelihood:                -9044.6\n",
       "No. Observations:               35972   AIC:                         1.812e+04\n",
       "Df Residuals:                   35957   BIC:                         1.825e+04\n",
       "Df Model:                          14                                         \n",
       "Covariance Type:            nonrobust                                         \n",
       "=================================================================================\n",
       "                    coef    std err          t      P>|t|      [0.025      0.975]\n",
       "---------------------------------------------------------------------------------\n",
       "Intercept        -3.5391      0.323    -10.971      0.000      -4.171      -2.907\n",
       "year              0.0530      0.003     16.024      0.000       0.046       0.059\n",
       "sex               0.0361      0.003     10.998      0.000       0.030       0.043\n",
       "indig             0.0300      0.004      7.382      0.000       0.022       0.038\n",
       "dist_sec         -0.0067      0.001     -8.274      0.000      -0.008      -0.005\n",
       "grc               0.0473      0.001     37.148      0.000       0.045       0.050\n",
       "fam_n             0.0012      0.001      1.607      0.108      -0.000       0.003\n",
       "min_dist          0.0003   5.44e-05      5.413      0.000       0.000       0.000\n",
       "dist_cap          0.0002   3.29e-05      7.338      0.000       0.000       0.000\n",
       "hohedu            0.0031      0.001      4.183      0.000       0.002       0.005\n",
       "hohwag         2.023e-06   2.41e-06      0.839      0.401    -2.7e-06    6.75e-06\n",
       "welfare_index -3.586e-05   1.57e-05     -2.284      0.022   -6.66e-05   -5.09e-06\n",
       "hohsex           -0.0028      0.007     -0.432      0.666      -0.016       0.010\n",
       "hohage        -8.056e-05      0.000     -0.476      0.634      -0.000       0.000\n",
       "age              -0.0950      0.001    -92.975      0.000      -0.097      -0.093\n",
       "==============================================================================\n",
       "Omnibus:                     4343.381   Durbin-Watson:                   1.496\n",
       "Prob(Omnibus):                  0.000   Jarque-Bera (JB):             6103.523\n",
       "Skew:                          -0.957   Prob(JB):                         0.00\n",
       "Kurtosis:                       3.639   Cond. No.                     2.01e+05\n",
       "==============================================================================\n",
       "\n",
       "Warnings:\n",
       "[1] Standard Errors assume that the covariance matrix of the errors is correctly specified.\n",
       "[2] The condition number is large, 2.01e+05. This might indicate that there are\n",
       "strong multicollinearity or other numerical problems.\n",
       "\"\"\""
      ]
     },
     "execution_count": 64,
     "metadata": {},
     "output_type": "execute_result"
    }
   ],
   "source": [
    "#We would fit a multilunear regression model to check how sc depends on other variables\n",
    "multiple = smf.ols(formula = 'sc ~ year + sex+ indig+ dist_sec+ grc+ fam_n+ min_dist+ dist_cap+ hohedu+ hohwag+ welfare_index+hohsex+ hohage+ age', data= before_after)\n",
    "r1 = multiple.fit()\n",
    "r1.summary()"
   ]
  },
  {
   "cell_type": "code",
   "execution_count": null,
   "metadata": {
    "scrolled": true
   },
   "outputs": [],
   "source": []
  },
  {
   "cell_type": "markdown",
   "metadata": {},
   "source": [
    "***Q2.1.4 - compare all the estimators. Are your estimates statistically significant? What do they suggest\n",
    "about the efficacy of the progresa program?***"
   ]
  },
  {
   "cell_type": "markdown",
   "metadata": {},
   "source": [
    "\n",
    "The statistically significant predictors are year, sex, indig, dist_sec, grc, min_dist, dist_cap,hohedu,welfare_index,age. When we have taken all the predictors, the coefficient of year has increased from 0.0238 to 0.0530.\n",
    "It means that when we consider the effect of other predictors, it enhances the effect of treatment over time.\n",
    "The progresa program is effective overall.\n"
   ]
  },
  {
   "cell_type": "code",
   "execution_count": null,
   "metadata": {},
   "outputs": [],
   "source": []
  },
  {
   "cell_type": "markdown",
   "metadata": {},
   "source": [
    "**Q2.2 Now let's implement the cross-sectional estimator. Proceed along the same lines as what you did above.**"
   ]
  },
  {
   "cell_type": "markdown",
   "metadata": {},
   "source": [
    "***Q2.2.1 Begin by estimating the impact of Progresa by compring the average enrollment rate among\n",
    "poor households in the treatment villages and the average enrollment rate among poor households\n",
    "in the control villages. What do you find?***"
   ]
  },
  {
   "cell_type": "markdown",
   "metadata": {},
   "source": [
    "The average difference in outcomes between treated and non-treated individuals is due to the treatment, and only due to the treatment.\n",
    "So we would check in 1998 (after), the average enrollment rate in poor households of df(treatment) and non df(control)."
   ]
  },
  {
   "cell_type": "code",
   "execution_count": 66,
   "metadata": {},
   "outputs": [],
   "source": [
    "# We would only check for after treatment and in poor households. We would filter the data for year = 1998 and poor =1.\n",
    "#This would enalbe us to compare schooling rate (sc) between poor df(treatment) and poor non df(control) households.\n",
    "cross_section = df[(df['year'] ==98) & (df['poor'] ==1)]\n"
   ]
  },
  {
   "cell_type": "code",
   "execution_count": 67,
   "metadata": {},
   "outputs": [
    {
     "data": {
      "text/html": [
       "<div>\n",
       "<style scoped>\n",
       "    .dataframe tbody tr th:only-of-type {\n",
       "        vertical-align: middle;\n",
       "    }\n",
       "\n",
       "    .dataframe tbody tr th {\n",
       "        vertical-align: top;\n",
       "    }\n",
       "\n",
       "    .dataframe thead th {\n",
       "        text-align: right;\n",
       "    }\n",
       "</style>\n",
       "<table border=\"1\" class=\"dataframe\">\n",
       "  <thead>\n",
       "    <tr style=\"text-align: right;\">\n",
       "      <th></th>\n",
       "      <th>sc</th>\n",
       "    </tr>\n",
       "    <tr>\n",
       "      <th>progresa</th>\n",
       "      <th></th>\n",
       "    </tr>\n",
       "  </thead>\n",
       "  <tbody>\n",
       "    <tr>\n",
       "      <th>0</th>\n",
       "      <td>0.807637</td>\n",
       "    </tr>\n",
       "    <tr>\n",
       "      <th>1</th>\n",
       "      <td>0.846479</td>\n",
       "    </tr>\n",
       "  </tbody>\n",
       "</table>\n",
       "</div>"
      ],
      "text/plain": [
       "                sc\n",
       "progresa          \n",
       "0         0.807637\n",
       "1         0.846479"
      ]
     },
     "execution_count": 67,
     "metadata": {},
     "output_type": "execute_result"
    }
   ],
   "source": [
    "#We would group by progresa(treatment) and find mean of schooling rate(sc).\n",
    "\n",
    "sc_rate_mean_cross_section = cross_section[['sc','progresa']].groupby(['progresa']).mean()\n",
    "\n",
    "sc_rate_mean_cross_section\n"
   ]
  },
  {
   "cell_type": "code",
   "execution_count": 68,
   "metadata": {},
   "outputs": [
    {
     "data": {
      "text/plain": [
       "0.03884199999999993"
      ]
     },
     "execution_count": 68,
     "metadata": {},
     "output_type": "execute_result"
    }
   ],
   "source": [
    "difference_cross_section = 0.846479 - 0.807637\n",
    "difference_cross_section"
   ]
  },
  {
   "cell_type": "code",
   "execution_count": 72,
   "metadata": {},
   "outputs": [
    {
     "data": {
      "text/plain": [
       "' The difference in the schooling rate(sc) of poor households of df(treatment) and non progresa(control) group is 0.0388 which is 3.88%.\\n'"
      ]
     },
     "execution_count": 72,
     "metadata": {},
     "output_type": "execute_result"
    }
   ],
   "source": [
    "\"\"\" The difference in the schooling rate(sc) of poor households of df(treatment) and non progresa(control) group is 0.0388 which is 3.88%.\n",
    "\"\"\""
   ]
  },
  {
   "cell_type": "markdown",
   "metadata": {},
   "source": [
    "***Q2.2.2 Now repeat the estimator using simple regression.***"
   ]
  },
  {
   "cell_type": "code",
   "execution_count": 73,
   "metadata": {},
   "outputs": [
    {
     "data": {
      "text/html": [
       "<table class=\"simpletable\">\n",
       "<caption>OLS Regression Results</caption>\n",
       "<tr>\n",
       "  <th>Dep. Variable:</th>           <td>sc</td>        <th>  R-squared:         </th> <td>   0.003</td> \n",
       "</tr>\n",
       "<tr>\n",
       "  <th>Model:</th>                   <td>OLS</td>       <th>  Adj. R-squared:    </th> <td>   0.003</td> \n",
       "</tr>\n",
       "<tr>\n",
       "  <th>Method:</th>             <td>Least Squares</td>  <th>  F-statistic:       </th> <td>   69.87</td> \n",
       "</tr>\n",
       "<tr>\n",
       "  <th>Date:</th>             <td>Thu, 06 Feb 2020</td> <th>  Prob (F-statistic):</th> <td>6.64e-17</td> \n",
       "</tr>\n",
       "<tr>\n",
       "  <th>Time:</th>                 <td>19:49:17</td>     <th>  Log-Likelihood:    </th> <td> -11926.</td> \n",
       "</tr>\n",
       "<tr>\n",
       "  <th>No. Observations:</th>      <td> 27450</td>      <th>  AIC:               </th> <td>2.386e+04</td>\n",
       "</tr>\n",
       "<tr>\n",
       "  <th>Df Residuals:</th>          <td> 27448</td>      <th>  BIC:               </th> <td>2.387e+04</td>\n",
       "</tr>\n",
       "<tr>\n",
       "  <th>Df Model:</th>              <td>     1</td>      <th>                     </th>     <td> </td>    \n",
       "</tr>\n",
       "<tr>\n",
       "  <th>Covariance Type:</th>      <td>nonrobust</td>    <th>                     </th>     <td> </td>    \n",
       "</tr>\n",
       "</table>\n",
       "<table class=\"simpletable\">\n",
       "<tr>\n",
       "      <td></td>         <th>coef</th>     <th>std err</th>      <th>t</th>      <th>P>|t|</th>  <th>[0.025</th>    <th>0.975]</th>  \n",
       "</tr>\n",
       "<tr>\n",
       "  <th>Intercept</th> <td>    0.8076</td> <td>    0.004</td> <td>  220.676</td> <td> 0.000</td> <td>    0.800</td> <td>    0.815</td>\n",
       "</tr>\n",
       "<tr>\n",
       "  <th>progresa</th>  <td>    0.0388</td> <td>    0.005</td> <td>    8.359</td> <td> 0.000</td> <td>    0.030</td> <td>    0.048</td>\n",
       "</tr>\n",
       "</table>\n",
       "<table class=\"simpletable\">\n",
       "<tr>\n",
       "  <th>Omnibus:</th>       <td>7638.939</td> <th>  Durbin-Watson:     </th> <td>   1.734</td> \n",
       "</tr>\n",
       "<tr>\n",
       "  <th>Prob(Omnibus):</th>  <td> 0.000</td>  <th>  Jarque-Bera (JB):  </th> <td>15767.534</td>\n",
       "</tr>\n",
       "<tr>\n",
       "  <th>Skew:</th>           <td>-1.767</td>  <th>  Prob(JB):          </th> <td>    0.00</td> \n",
       "</tr>\n",
       "<tr>\n",
       "  <th>Kurtosis:</th>       <td> 4.140</td>  <th>  Cond. No.          </th> <td>    3.01</td> \n",
       "</tr>\n",
       "</table><br/><br/>Warnings:<br/>[1] Standard Errors assume that the covariance matrix of the errors is correctly specified."
      ],
      "text/plain": [
       "<class 'statsmodels.iolib.summary.Summary'>\n",
       "\"\"\"\n",
       "                            OLS Regression Results                            \n",
       "==============================================================================\n",
       "Dep. Variable:                     sc   R-squared:                       0.003\n",
       "Model:                            OLS   Adj. R-squared:                  0.003\n",
       "Method:                 Least Squares   F-statistic:                     69.87\n",
       "Date:                Thu, 06 Feb 2020   Prob (F-statistic):           6.64e-17\n",
       "Time:                        19:49:17   Log-Likelihood:                -11926.\n",
       "No. Observations:               27450   AIC:                         2.386e+04\n",
       "Df Residuals:                   27448   BIC:                         2.387e+04\n",
       "Df Model:                           1                                         \n",
       "Covariance Type:            nonrobust                                         \n",
       "==============================================================================\n",
       "                 coef    std err          t      P>|t|      [0.025      0.975]\n",
       "------------------------------------------------------------------------------\n",
       "Intercept      0.8076      0.004    220.676      0.000       0.800       0.815\n",
       "progresa       0.0388      0.005      8.359      0.000       0.030       0.048\n",
       "==============================================================================\n",
       "Omnibus:                     7638.939   Durbin-Watson:                   1.734\n",
       "Prob(Omnibus):                  0.000   Jarque-Bera (JB):            15767.534\n",
       "Skew:                          -1.767   Prob(JB):                         0.00\n",
       "Kurtosis:                       4.140   Cond. No.                         3.01\n",
       "==============================================================================\n",
       "\n",
       "Warnings:\n",
       "[1] Standard Errors assume that the covariance matrix of the errors is correctly specified.\n",
       "\"\"\""
      ]
     },
     "execution_count": 73,
     "metadata": {},
     "output_type": "execute_result"
    }
   ],
   "source": [
    "cs_m = smf.ols(formula = 'sc ~ progresa', data= cross_section)\n",
    "cs_m_2 = cs_m.fit()\n",
    "cs_m_2.summary()"
   ]
  },
  {
   "cell_type": "markdown",
   "metadata": {},
   "source": [
    "\n",
    "The p value of progresa variable is almost 0, which means it is statistically significant. \n",
    "The intercept is 0.8076. The schooling rate among non progresa households was also 0.8076\n",
    "\n",
    "The progresa coeficient is 0.0388. So the slope is 0.0388 which is eqaul to what we found above from difference of mean schooling rates of progresa and non progresa groups.\n",
    "\n",
    "We would observe an increse of 0.0388 units in schooling rate(sc) for 1 unit increase in progresa variable.\n",
    "\n"
   ]
  },
  {
   "cell_type": "markdown",
   "metadata": {},
   "source": [
    "***Q2.2.3 Third, use multiple regression to get the same estimate.***"
   ]
  },
  {
   "cell_type": "code",
   "execution_count": 42,
   "metadata": {},
   "outputs": [
    {
     "data": {
      "text/plain": [
       "Index(['year', 'sex', 'indig', 'dist_sec', 'sc', 'grc', 'fam_n', 'min_dist',\n",
       "       'dist_cap', 'poor', 'progresa', 'hohedu', 'hohwag', 'welfare_index',\n",
       "       'hohsex', 'hohage', 'age', 'village', 'folnum', 'grc97', 'sc97'],\n",
       "      dtype='object')"
      ]
     },
     "execution_count": 42,
     "metadata": {},
     "output_type": "execute_result"
    }
   ],
   "source": [
    "cross_section.columns"
   ]
  },
  {
   "cell_type": "code",
   "execution_count": 74,
   "metadata": {},
   "outputs": [
    {
     "data": {
      "text/html": [
       "<table class=\"simpletable\">\n",
       "<caption>OLS Regression Results</caption>\n",
       "<tr>\n",
       "  <th>Dep. Variable:</th>           <td>sc</td>        <th>  R-squared:         </th> <td>   0.304</td> \n",
       "</tr>\n",
       "<tr>\n",
       "  <th>Model:</th>                   <td>OLS</td>       <th>  Adj. R-squared:    </th> <td>   0.303</td> \n",
       "</tr>\n",
       "<tr>\n",
       "  <th>Method:</th>             <td>Least Squares</td>  <th>  F-statistic:       </th> <td>   847.0</td> \n",
       "</tr>\n",
       "<tr>\n",
       "  <th>Date:</th>             <td>Thu, 06 Feb 2020</td> <th>  Prob (F-statistic):</th>  <td>  0.00</td>  \n",
       "</tr>\n",
       "<tr>\n",
       "  <th>Time:</th>                 <td>19:49:39</td>     <th>  Log-Likelihood:    </th> <td> -6928.7</td> \n",
       "</tr>\n",
       "<tr>\n",
       "  <th>No. Observations:</th>      <td> 27200</td>      <th>  AIC:               </th> <td>1.389e+04</td>\n",
       "</tr>\n",
       "<tr>\n",
       "  <th>Df Residuals:</th>          <td> 27185</td>      <th>  BIC:               </th> <td>1.401e+04</td>\n",
       "</tr>\n",
       "<tr>\n",
       "  <th>Df Model:</th>              <td>    14</td>      <th>                     </th>     <td> </td>    \n",
       "</tr>\n",
       "<tr>\n",
       "  <th>Covariance Type:</th>      <td>nonrobust</td>    <th>                     </th>     <td> </td>    \n",
       "</tr>\n",
       "</table>\n",
       "<table class=\"simpletable\">\n",
       "<tr>\n",
       "        <td></td>           <th>coef</th>     <th>std err</th>      <th>t</th>      <th>P>|t|</th>  <th>[0.025</th>    <th>0.975]</th>  \n",
       "</tr>\n",
       "<tr>\n",
       "  <th>Intercept</th>     <td>    1.6540</td> <td>    0.020</td> <td>   84.276</td> <td> 0.000</td> <td>    1.616</td> <td>    1.692</td>\n",
       "</tr>\n",
       "<tr>\n",
       "  <th>progresa</th>      <td>    0.0319</td> <td>    0.004</td> <td>    8.140</td> <td> 0.000</td> <td>    0.024</td> <td>    0.040</td>\n",
       "</tr>\n",
       "<tr>\n",
       "  <th>sex</th>           <td>    0.0336</td> <td>    0.004</td> <td>    8.855</td> <td> 0.000</td> <td>    0.026</td> <td>    0.041</td>\n",
       "</tr>\n",
       "<tr>\n",
       "  <th>indig</th>         <td>    0.0272</td> <td>    0.005</td> <td>    5.852</td> <td> 0.000</td> <td>    0.018</td> <td>    0.036</td>\n",
       "</tr>\n",
       "<tr>\n",
       "  <th>dist_sec</th>      <td>   -0.0074</td> <td>    0.001</td> <td>   -8.537</td> <td> 0.000</td> <td>   -0.009</td> <td>   -0.006</td>\n",
       "</tr>\n",
       "<tr>\n",
       "  <th>grc</th>           <td>    0.0510</td> <td>    0.001</td> <td>   34.772</td> <td> 0.000</td> <td>    0.048</td> <td>    0.054</td>\n",
       "</tr>\n",
       "<tr>\n",
       "  <th>fam_n</th>         <td>    0.0015</td> <td>    0.001</td> <td>    1.724</td> <td> 0.085</td> <td>   -0.000</td> <td>    0.003</td>\n",
       "</tr>\n",
       "<tr>\n",
       "  <th>min_dist</th>      <td>    0.0004</td> <td> 6.22e-05</td> <td>    5.653</td> <td> 0.000</td> <td>    0.000</td> <td>    0.000</td>\n",
       "</tr>\n",
       "<tr>\n",
       "  <th>dist_cap</th>      <td>    0.0002</td> <td> 3.62e-05</td> <td>    5.247</td> <td> 0.000</td> <td>    0.000</td> <td>    0.000</td>\n",
       "</tr>\n",
       "<tr>\n",
       "  <th>hohedu</th>        <td>    0.0041</td> <td>    0.001</td> <td>    4.790</td> <td> 0.000</td> <td>    0.002</td> <td>    0.006</td>\n",
       "</tr>\n",
       "<tr>\n",
       "  <th>hohwag</th>        <td>-1.515e-06</td> <td> 2.77e-06</td> <td>   -0.547</td> <td> 0.584</td> <td>-6.94e-06</td> <td> 3.91e-06</td>\n",
       "</tr>\n",
       "<tr>\n",
       "  <th>welfare_index</th> <td>-1.809e-05</td> <td> 1.79e-05</td> <td>   -1.011</td> <td> 0.312</td> <td>-5.32e-05</td> <td>  1.7e-05</td>\n",
       "</tr>\n",
       "<tr>\n",
       "  <th>hohsex</th>        <td>    0.0051</td> <td>    0.008</td> <td>    0.672</td> <td> 0.502</td> <td>   -0.010</td> <td>    0.020</td>\n",
       "</tr>\n",
       "<tr>\n",
       "  <th>hohage</th>        <td>   -0.0003</td> <td>    0.000</td> <td>   -1.571</td> <td> 0.116</td> <td>   -0.001</td> <td> 7.49e-05</td>\n",
       "</tr>\n",
       "<tr>\n",
       "  <th>age</th>           <td>   -0.1000</td> <td>    0.001</td> <td>  -83.566</td> <td> 0.000</td> <td>   -0.102</td> <td>   -0.098</td>\n",
       "</tr>\n",
       "</table>\n",
       "<table class=\"simpletable\">\n",
       "<tr>\n",
       "  <th>Omnibus:</th>       <td>3250.561</td> <th>  Durbin-Watson:     </th> <td>   1.733</td>\n",
       "</tr>\n",
       "<tr>\n",
       "  <th>Prob(Omnibus):</th>  <td> 0.000</td>  <th>  Jarque-Bera (JB):  </th> <td>4554.560</td>\n",
       "</tr>\n",
       "<tr>\n",
       "  <th>Skew:</th>           <td>-0.949</td>  <th>  Prob(JB):          </th> <td>    0.00</td>\n",
       "</tr>\n",
       "<tr>\n",
       "  <th>Kurtosis:</th>       <td> 3.645</td>  <th>  Cond. No.          </th> <td>1.08e+04</td>\n",
       "</tr>\n",
       "</table><br/><br/>Warnings:<br/>[1] Standard Errors assume that the covariance matrix of the errors is correctly specified.<br/>[2] The condition number is large, 1.08e+04. This might indicate that there are<br/>strong multicollinearity or other numerical problems."
      ],
      "text/plain": [
       "<class 'statsmodels.iolib.summary.Summary'>\n",
       "\"\"\"\n",
       "                            OLS Regression Results                            \n",
       "==============================================================================\n",
       "Dep. Variable:                     sc   R-squared:                       0.304\n",
       "Model:                            OLS   Adj. R-squared:                  0.303\n",
       "Method:                 Least Squares   F-statistic:                     847.0\n",
       "Date:                Thu, 06 Feb 2020   Prob (F-statistic):               0.00\n",
       "Time:                        19:49:39   Log-Likelihood:                -6928.7\n",
       "No. Observations:               27200   AIC:                         1.389e+04\n",
       "Df Residuals:                   27185   BIC:                         1.401e+04\n",
       "Df Model:                          14                                         \n",
       "Covariance Type:            nonrobust                                         \n",
       "=================================================================================\n",
       "                    coef    std err          t      P>|t|      [0.025      0.975]\n",
       "---------------------------------------------------------------------------------\n",
       "Intercept         1.6540      0.020     84.276      0.000       1.616       1.692\n",
       "progresa          0.0319      0.004      8.140      0.000       0.024       0.040\n",
       "sex               0.0336      0.004      8.855      0.000       0.026       0.041\n",
       "indig             0.0272      0.005      5.852      0.000       0.018       0.036\n",
       "dist_sec         -0.0074      0.001     -8.537      0.000      -0.009      -0.006\n",
       "grc               0.0510      0.001     34.772      0.000       0.048       0.054\n",
       "fam_n             0.0015      0.001      1.724      0.085      -0.000       0.003\n",
       "min_dist          0.0004   6.22e-05      5.653      0.000       0.000       0.000\n",
       "dist_cap          0.0002   3.62e-05      5.247      0.000       0.000       0.000\n",
       "hohedu            0.0041      0.001      4.790      0.000       0.002       0.006\n",
       "hohwag        -1.515e-06   2.77e-06     -0.547      0.584   -6.94e-06    3.91e-06\n",
       "welfare_index -1.809e-05   1.79e-05     -1.011      0.312   -5.32e-05     1.7e-05\n",
       "hohsex            0.0051      0.008      0.672      0.502      -0.010       0.020\n",
       "hohage           -0.0003      0.000     -1.571      0.116      -0.001    7.49e-05\n",
       "age              -0.1000      0.001    -83.566      0.000      -0.102      -0.098\n",
       "==============================================================================\n",
       "Omnibus:                     3250.561   Durbin-Watson:                   1.733\n",
       "Prob(Omnibus):                  0.000   Jarque-Bera (JB):             4554.560\n",
       "Skew:                          -0.949   Prob(JB):                         0.00\n",
       "Kurtosis:                       3.645   Cond. No.                     1.08e+04\n",
       "==============================================================================\n",
       "\n",
       "Warnings:\n",
       "[1] Standard Errors assume that the covariance matrix of the errors is correctly specified.\n",
       "[2] The condition number is large, 1.08e+04. This might indicate that there are\n",
       "strong multicollinearity or other numerical problems.\n",
       "\"\"\""
      ]
     },
     "execution_count": 74,
     "metadata": {},
     "output_type": "execute_result"
    }
   ],
   "source": [
    "multiple_cs = smf.ols(formula = 'sc ~ progresa + sex+ indig+ dist_sec+ grc+ fam_n+ min_dist+ dist_cap+ hohedu+ hohwag+ welfare_index+hohsex+ hohage+ age', data= cross_section)\n",
    "r1_cs = multiple_cs.fit()\n",
    "r1_cs.summary()"
   ]
  },
  {
   "cell_type": "markdown",
   "metadata": {},
   "source": [
    "***Q2.2.4 Finally, as above, compare your three estimators. What do you find? Are the effects statistically significant?***"
   ]
  },
  {
   "cell_type": "markdown",
   "metadata": {},
   "source": [
    "The statistically significant predictors are progresa, sex, indig, dist_sec, grc,min_dist,dist_cap,hohedu,age. When we have taken all the predictors, the coefficient of progresa has decreased from 0.0388\n",
    " to 0.0319.\n",
    "It means that when we consider the effect of other predictors, it decreases the effect of treatment over time.\n",
    "Still the progresa program is effective in increasing the schooling rate overall.\n"
   ]
  },
  {
   "cell_type": "markdown",
   "metadata": {},
   "source": [
    "**Q2.3 Now we are ready for DiD estimator. Proceed along the same lines as above.**\n"
   ]
  },
  {
   "cell_type": "markdown",
   "metadata": {},
   "source": [
    "***Q2.3.1 Start with the simple table. However, DiD requires 4-way comparison. So compare the average enrollment rate among poor households in the treatment villages and the average enrollment rate\n",
    "among poor households in the control villages, both 1997 and 1998. What do you find?***"
   ]
  },
  {
   "cell_type": "code",
   "execution_count": 75,
   "metadata": {},
   "outputs": [],
   "source": [
    "#We have to find the average enrollment rates among poor households of treatment and control villages for 1997 and 1998. \n",
    "#So we only select the rows having poor = 1.\n",
    "dif_in_dif = df[ df['poor'] ==1]"
   ]
  },
  {
   "cell_type": "code",
   "execution_count": 76,
   "metadata": {},
   "outputs": [
    {
     "data": {
      "text/html": [
       "<div>\n",
       "<style scoped>\n",
       "    .dataframe tbody tr th:only-of-type {\n",
       "        vertical-align: middle;\n",
       "    }\n",
       "\n",
       "    .dataframe tbody tr th {\n",
       "        vertical-align: top;\n",
       "    }\n",
       "\n",
       "    .dataframe thead th {\n",
       "        text-align: right;\n",
       "    }\n",
       "</style>\n",
       "<table border=\"1\" class=\"dataframe\">\n",
       "  <thead>\n",
       "    <tr style=\"text-align: right;\">\n",
       "      <th></th>\n",
       "      <th></th>\n",
       "      <th>sc</th>\n",
       "    </tr>\n",
       "    <tr>\n",
       "      <th>progresa</th>\n",
       "      <th>year</th>\n",
       "      <th></th>\n",
       "    </tr>\n",
       "  </thead>\n",
       "  <tbody>\n",
       "    <tr>\n",
       "      <th rowspan=\"2\" valign=\"top\">0</th>\n",
       "      <th>97</th>\n",
       "      <td>0.815186</td>\n",
       "    </tr>\n",
       "    <tr>\n",
       "      <th>98</th>\n",
       "      <td>0.807637</td>\n",
       "    </tr>\n",
       "    <tr>\n",
       "      <th rowspan=\"2\" valign=\"top\">1</th>\n",
       "      <th>97</th>\n",
       "      <td>0.822697</td>\n",
       "    </tr>\n",
       "    <tr>\n",
       "      <th>98</th>\n",
       "      <td>0.846479</td>\n",
       "    </tr>\n",
       "  </tbody>\n",
       "</table>\n",
       "</div>"
      ],
      "text/plain": [
       "                     sc\n",
       "progresa year          \n",
       "0        97    0.815186\n",
       "         98    0.807637\n",
       "1        97    0.822697\n",
       "         98    0.846479"
      ]
     },
     "execution_count": 76,
     "metadata": {},
     "output_type": "execute_result"
    }
   ],
   "source": [
    "#We have got poor households df(treatment) and non df(control) groups.\n",
    "#We would now group by df and year; and find mean of sc(schooling rate).\n",
    "sc_rate_mean_diff_in_diff = dif_in_dif[['sc','progresa','year']].groupby(['progresa','year']).mean()\n",
    "sc_rate_mean_diff_in_diff"
   ]
  },
  {
   "cell_type": "code",
   "execution_count": 77,
   "metadata": {},
   "outputs": [],
   "source": [
    "diff_in_1997 = 0.822697 - 0.815186 #difference of treatment and control in 1997\n",
    "diff_in_1998 = 0.846479 - 0.807637 #difference of treatment and control in 1998"
   ]
  },
  {
   "cell_type": "code",
   "execution_count": 78,
   "metadata": {},
   "outputs": [
    {
     "data": {
      "text/plain": [
       "0.007511000000000045"
      ]
     },
     "execution_count": 78,
     "metadata": {},
     "output_type": "execute_result"
    }
   ],
   "source": [
    "diff_in_1997"
   ]
  },
  {
   "cell_type": "code",
   "execution_count": 79,
   "metadata": {},
   "outputs": [
    {
     "data": {
      "text/plain": [
       "0.03884199999999993"
      ]
     },
     "execution_count": 79,
     "metadata": {},
     "output_type": "execute_result"
    }
   ],
   "source": [
    "diff_in_1998"
   ]
  },
  {
   "cell_type": "code",
   "execution_count": 89,
   "metadata": {},
   "outputs": [
    {
     "data": {
      "text/plain": [
       "0.03133099999999989"
      ]
     },
     "execution_count": 89,
     "metadata": {},
     "output_type": "execute_result"
    }
   ],
   "source": [
    "difference_in_difference = diff_in_1998 - diff_in_1997\n",
    "difference_in_difference\n",
    "#It is the difference in difference"
   ]
  },
  {
   "cell_type": "markdown",
   "metadata": {},
   "source": [
    "In 1997 the difference in poor households of df(treatment) and non progresa(control) groups was 0.007511000000000045.\n",
    "\n",
    "In 1998 the difference in poor households of df(treatment) and non progresa(control) groups was 0.03884199999999993.\n",
    "\n",
    "The difference in difference = 0.03884199999999993 - 0.007511000000000045 = 0.0313"
   ]
  },
  {
   "cell_type": "markdown",
   "metadata": {},
   "source": [
    "***Q2.3.2- Now repeat the estimator using simple regression.***"
   ]
  },
  {
   "cell_type": "code",
   "execution_count": 93,
   "metadata": {},
   "outputs": [
    {
     "data": {
      "text/html": [
       "<table class=\"simpletable\">\n",
       "<caption>OLS Regression Results</caption>\n",
       "<tr>\n",
       "  <th>Dep. Variable:</th>           <td>sc</td>        <th>  R-squared:         </th> <td>   0.001</td> \n",
       "</tr>\n",
       "<tr>\n",
       "  <th>Model:</th>                   <td>OLS</td>       <th>  Adj. R-squared:    </th> <td>   0.001</td> \n",
       "</tr>\n",
       "<tr>\n",
       "  <th>Method:</th>             <td>Least Squares</td>  <th>  F-statistic:       </th> <td>   28.31</td> \n",
       "</tr>\n",
       "<tr>\n",
       "  <th>Date:</th>             <td>Thu, 06 Feb 2020</td> <th>  Prob (F-statistic):</th> <td>2.76e-18</td> \n",
       "</tr>\n",
       "<tr>\n",
       "  <th>Time:</th>                 <td>20:34:50</td>     <th>  Log-Likelihood:    </th> <td> -26242.</td> \n",
       "</tr>\n",
       "<tr>\n",
       "  <th>No. Observations:</th>      <td> 58372</td>      <th>  AIC:               </th> <td>5.249e+04</td>\n",
       "</tr>\n",
       "<tr>\n",
       "  <th>Df Residuals:</th>          <td> 58368</td>      <th>  BIC:               </th> <td>5.253e+04</td>\n",
       "</tr>\n",
       "<tr>\n",
       "  <th>Df Model:</th>              <td>     3</td>      <th>                     </th>     <td> </td>    \n",
       "</tr>\n",
       "<tr>\n",
       "  <th>Covariance Type:</th>      <td>nonrobust</td>    <th>                     </th>     <td> </td>    \n",
       "</tr>\n",
       "</table>\n",
       "<table class=\"simpletable\">\n",
       "<tr>\n",
       "        <td></td>           <th>coef</th>     <th>std err</th>      <th>t</th>      <th>P>|t|</th>  <th>[0.025</th>    <th>0.975]</th>  \n",
       "</tr>\n",
       "<tr>\n",
       "  <th>Intercept</th>     <td>    1.5474</td> <td>    0.497</td> <td>    3.112</td> <td> 0.002</td> <td>    0.573</td> <td>    2.522</td>\n",
       "</tr>\n",
       "<tr>\n",
       "  <th>progresa</th>      <td>   -3.0316</td> <td>    0.632</td> <td>   -4.800</td> <td> 0.000</td> <td>   -4.270</td> <td>   -1.794</td>\n",
       "</tr>\n",
       "<tr>\n",
       "  <th>year</th>          <td>   -0.0075</td> <td>    0.005</td> <td>   -1.480</td> <td> 0.139</td> <td>   -0.018</td> <td>    0.002</td>\n",
       "</tr>\n",
       "<tr>\n",
       "  <th>progresa:year</th> <td>    0.0313</td> <td>    0.006</td> <td>    4.835</td> <td> 0.000</td> <td>    0.019</td> <td>    0.044</td>\n",
       "</tr>\n",
       "</table>\n",
       "<table class=\"simpletable\">\n",
       "<tr>\n",
       "  <th>Omnibus:</th>       <td>15346.988</td> <th>  Durbin-Watson:     </th> <td>   1.397</td> \n",
       "</tr>\n",
       "<tr>\n",
       "  <th>Prob(Omnibus):</th>  <td> 0.000</td>   <th>  Jarque-Bera (JB):  </th> <td>30608.651</td>\n",
       "</tr>\n",
       "<tr>\n",
       "  <th>Skew:</th>           <td>-1.711</td>   <th>  Prob(JB):          </th> <td>    0.00</td> \n",
       "</tr>\n",
       "<tr>\n",
       "  <th>Kurtosis:</th>       <td> 3.937</td>   <th>  Cond. No.          </th> <td>5.72e+04</td> \n",
       "</tr>\n",
       "</table><br/><br/>Warnings:<br/>[1] Standard Errors assume that the covariance matrix of the errors is correctly specified.<br/>[2] The condition number is large, 5.72e+04. This might indicate that there are<br/>strong multicollinearity or other numerical problems."
      ],
      "text/plain": [
       "<class 'statsmodels.iolib.summary.Summary'>\n",
       "\"\"\"\n",
       "                            OLS Regression Results                            \n",
       "==============================================================================\n",
       "Dep. Variable:                     sc   R-squared:                       0.001\n",
       "Model:                            OLS   Adj. R-squared:                  0.001\n",
       "Method:                 Least Squares   F-statistic:                     28.31\n",
       "Date:                Thu, 06 Feb 2020   Prob (F-statistic):           2.76e-18\n",
       "Time:                        20:34:50   Log-Likelihood:                -26242.\n",
       "No. Observations:               58372   AIC:                         5.249e+04\n",
       "Df Residuals:                   58368   BIC:                         5.253e+04\n",
       "Df Model:                           3                                         \n",
       "Covariance Type:            nonrobust                                         \n",
       "=================================================================================\n",
       "                    coef    std err          t      P>|t|      [0.025      0.975]\n",
       "---------------------------------------------------------------------------------\n",
       "Intercept         1.5474      0.497      3.112      0.002       0.573       2.522\n",
       "progresa         -3.0316      0.632     -4.800      0.000      -4.270      -1.794\n",
       "year             -0.0075      0.005     -1.480      0.139      -0.018       0.002\n",
       "progresa:year     0.0313      0.006      4.835      0.000       0.019       0.044\n",
       "==============================================================================\n",
       "Omnibus:                    15346.988   Durbin-Watson:                   1.397\n",
       "Prob(Omnibus):                  0.000   Jarque-Bera (JB):            30608.651\n",
       "Skew:                          -1.711   Prob(JB):                         0.00\n",
       "Kurtosis:                       3.937   Cond. No.                     5.72e+04\n",
       "==============================================================================\n",
       "\n",
       "Warnings:\n",
       "[1] Standard Errors assume that the covariance matrix of the errors is correctly specified.\n",
       "[2] The condition number is large, 5.72e+04. This might indicate that there are\n",
       "strong multicollinearity or other numerical problems.\n",
       "\"\"\""
      ]
     },
     "execution_count": 93,
     "metadata": {},
     "output_type": "execute_result"
    }
   ],
   "source": [
    "#We would fit a simple regression model for schooling rate dependent on the interaction of progresa and year\n",
    "\n",
    "did_m = smf.ols(formula = 'sc ~ progresa*year', data= dif_in_dif)\n",
    "did_m_2 = did_m.fit()\n",
    "did_m_2.summary() "
   ]
  },
  {
   "cell_type": "markdown",
   "metadata": {},
   "source": [
    "We see that the intercept is 1.5474. The slope of progresa is -3.0316. The slope of year is -0.0075.\n",
    "The interaction effect of progresa and year is 0.0313 which is equal to the difference in difference we found above.\n",
    "So progresa treatment alone or year alone is decreasing the schooling rate, but when we consider their interaction effect, it increases the schooling rate.\n",
    "\n"
   ]
  },
  {
   "cell_type": "markdown",
   "metadata": {},
   "source": [
    "***Q2.3.3- And as above, use multiple regression to get the same estimate.***"
   ]
  },
  {
   "cell_type": "code",
   "execution_count": 51,
   "metadata": {},
   "outputs": [
    {
     "data": {
      "text/plain": [
       "Index(['year', 'sex', 'indig', 'dist_sec', 'sc', 'grc', 'fam_n', 'min_dist',\n",
       "       'dist_cap', 'poor', 'progresa', 'hohedu', 'hohwag', 'welfare_index',\n",
       "       'hohsex', 'hohage', 'age', 'village', 'folnum', 'grc97', 'sc97'],\n",
       "      dtype='object')"
      ]
     },
     "execution_count": 51,
     "metadata": {},
     "output_type": "execute_result"
    }
   ],
   "source": [
    "dif_in_dif.columns"
   ]
  },
  {
   "cell_type": "code",
   "execution_count": 91,
   "metadata": {},
   "outputs": [
    {
     "data": {
      "text/html": [
       "<table class=\"simpletable\">\n",
       "<caption>OLS Regression Results</caption>\n",
       "<tr>\n",
       "  <th>Dep. Variable:</th>           <td>sc</td>        <th>  R-squared:         </th> <td>   0.311</td> \n",
       "</tr>\n",
       "<tr>\n",
       "  <th>Model:</th>                   <td>OLS</td>       <th>  Adj. R-squared:    </th> <td>   0.310</td> \n",
       "</tr>\n",
       "<tr>\n",
       "  <th>Method:</th>             <td>Least Squares</td>  <th>  F-statistic:       </th> <td>   1631.</td> \n",
       "</tr>\n",
       "<tr>\n",
       "  <th>Date:</th>             <td>Thu, 06 Feb 2020</td> <th>  Prob (F-statistic):</th>  <td>  0.00</td>  \n",
       "</tr>\n",
       "<tr>\n",
       "  <th>Time:</th>                 <td>20:34:30</td>     <th>  Log-Likelihood:    </th> <td> -15320.</td> \n",
       "</tr>\n",
       "<tr>\n",
       "  <th>No. Observations:</th>      <td> 57938</td>      <th>  AIC:               </th> <td>3.067e+04</td>\n",
       "</tr>\n",
       "<tr>\n",
       "  <th>Df Residuals:</th>          <td> 57921</td>      <th>  BIC:               </th> <td>3.083e+04</td>\n",
       "</tr>\n",
       "<tr>\n",
       "  <th>Df Model:</th>              <td>    16</td>      <th>                     </th>     <td> </td>    \n",
       "</tr>\n",
       "<tr>\n",
       "  <th>Covariance Type:</th>      <td>nonrobust</td>    <th>                     </th>     <td> </td>    \n",
       "</tr>\n",
       "</table>\n",
       "<table class=\"simpletable\">\n",
       "<tr>\n",
       "        <td></td>           <th>coef</th>     <th>std err</th>      <th>t</th>      <th>P>|t|</th>  <th>[0.025</th>    <th>0.975]</th>  \n",
       "</tr>\n",
       "<tr>\n",
       "  <th>Intercept</th>     <td>   -0.4068</td> <td>    0.208</td> <td>   -1.954</td> <td> 0.051</td> <td>   -0.815</td> <td>    0.001</td>\n",
       "</tr>\n",
       "<tr>\n",
       "  <th>progresa</th>      <td>   -2.8250</td> <td>    0.527</td> <td>   -5.358</td> <td> 0.000</td> <td>   -3.858</td> <td>   -1.792</td>\n",
       "</tr>\n",
       "<tr>\n",
       "  <th>year</th>          <td>    0.0251</td> <td>    0.004</td> <td>    5.866</td> <td> 0.000</td> <td>    0.017</td> <td>    0.033</td>\n",
       "</tr>\n",
       "<tr>\n",
       "  <th>progresa:year</th> <td>    0.0292</td> <td>    0.005</td> <td>    5.390</td> <td> 0.000</td> <td>    0.019</td> <td>    0.040</td>\n",
       "</tr>\n",
       "<tr>\n",
       "  <th>sex</th>           <td>    0.0367</td> <td>    0.003</td> <td>   14.006</td> <td> 0.000</td> <td>    0.032</td> <td>    0.042</td>\n",
       "</tr>\n",
       "<tr>\n",
       "  <th>indig</th>         <td>    0.0317</td> <td>    0.003</td> <td>    9.854</td> <td> 0.000</td> <td>    0.025</td> <td>    0.038</td>\n",
       "</tr>\n",
       "<tr>\n",
       "  <th>dist_sec</th>      <td>   -0.0065</td> <td>    0.001</td> <td>  -10.589</td> <td> 0.000</td> <td>   -0.008</td> <td>   -0.005</td>\n",
       "</tr>\n",
       "<tr>\n",
       "  <th>grc</th>           <td>    0.0486</td> <td>    0.001</td> <td>   48.071</td> <td> 0.000</td> <td>    0.047</td> <td>    0.051</td>\n",
       "</tr>\n",
       "<tr>\n",
       "  <th>fam_n</th>         <td>    0.0009</td> <td>    0.001</td> <td>    1.505</td> <td> 0.132</td> <td>   -0.000</td> <td>    0.002</td>\n",
       "</tr>\n",
       "<tr>\n",
       "  <th>min_dist</th>      <td>    0.0003</td> <td> 4.31e-05</td> <td>    7.579</td> <td> 0.000</td> <td>    0.000</td> <td>    0.000</td>\n",
       "</tr>\n",
       "<tr>\n",
       "  <th>dist_cap</th>      <td>    0.0002</td> <td> 2.51e-05</td> <td>    7.329</td> <td> 0.000</td> <td>    0.000</td> <td>    0.000</td>\n",
       "</tr>\n",
       "<tr>\n",
       "  <th>poor</th>          <td>   -0.4068</td> <td>    0.208</td> <td>   -1.954</td> <td> 0.051</td> <td>   -0.815</td> <td>    0.001</td>\n",
       "</tr>\n",
       "<tr>\n",
       "  <th>hohedu</th>        <td>    0.0037</td> <td>    0.001</td> <td>    6.225</td> <td> 0.000</td> <td>    0.003</td> <td>    0.005</td>\n",
       "</tr>\n",
       "<tr>\n",
       "  <th>hohwag</th>        <td>  4.95e-07</td> <td>  1.9e-06</td> <td>    0.260</td> <td> 0.795</td> <td>-3.24e-06</td> <td> 4.23e-06</td>\n",
       "</tr>\n",
       "<tr>\n",
       "  <th>welfare_index</th> <td>-1.631e-05</td> <td> 1.24e-05</td> <td>   -1.318</td> <td> 0.188</td> <td>-4.06e-05</td> <td> 7.95e-06</td>\n",
       "</tr>\n",
       "<tr>\n",
       "  <th>hohsex</th>        <td>   -0.0017</td> <td>    0.005</td> <td>   -0.324</td> <td> 0.746</td> <td>   -0.012</td> <td>    0.008</td>\n",
       "</tr>\n",
       "<tr>\n",
       "  <th>hohage</th>        <td>-4.707e-05</td> <td>    0.000</td> <td>   -0.354</td> <td> 0.723</td> <td>   -0.000</td> <td>    0.000</td>\n",
       "</tr>\n",
       "<tr>\n",
       "  <th>age</th>           <td>   -0.0983</td> <td>    0.001</td> <td> -120.910</td> <td> 0.000</td> <td>   -0.100</td> <td>   -0.097</td>\n",
       "</tr>\n",
       "</table>\n",
       "<table class=\"simpletable\">\n",
       "<tr>\n",
       "  <th>Omnibus:</th>       <td>6083.138</td> <th>  Durbin-Watson:     </th> <td>   1.514</td>\n",
       "</tr>\n",
       "<tr>\n",
       "  <th>Prob(Omnibus):</th>  <td> 0.000</td>  <th>  Jarque-Bera (JB):  </th> <td>8175.414</td>\n",
       "</tr>\n",
       "<tr>\n",
       "  <th>Skew:</th>           <td>-0.887</td>  <th>  Prob(JB):          </th> <td>    0.00</td>\n",
       "</tr>\n",
       "<tr>\n",
       "  <th>Kurtosis:</th>       <td> 3.488</td>  <th>  Cond. No.          </th> <td>6.96e+18</td>\n",
       "</tr>\n",
       "</table><br/><br/>Warnings:<br/>[1] Standard Errors assume that the covariance matrix of the errors is correctly specified.<br/>[2] The smallest eigenvalue is 1.29e-27. This might indicate that there are<br/>strong multicollinearity problems or that the design matrix is singular."
      ],
      "text/plain": [
       "<class 'statsmodels.iolib.summary.Summary'>\n",
       "\"\"\"\n",
       "                            OLS Regression Results                            \n",
       "==============================================================================\n",
       "Dep. Variable:                     sc   R-squared:                       0.311\n",
       "Model:                            OLS   Adj. R-squared:                  0.310\n",
       "Method:                 Least Squares   F-statistic:                     1631.\n",
       "Date:                Thu, 06 Feb 2020   Prob (F-statistic):               0.00\n",
       "Time:                        20:34:30   Log-Likelihood:                -15320.\n",
       "No. Observations:               57938   AIC:                         3.067e+04\n",
       "Df Residuals:                   57921   BIC:                         3.083e+04\n",
       "Df Model:                          16                                         \n",
       "Covariance Type:            nonrobust                                         \n",
       "=================================================================================\n",
       "                    coef    std err          t      P>|t|      [0.025      0.975]\n",
       "---------------------------------------------------------------------------------\n",
       "Intercept        -0.4068      0.208     -1.954      0.051      -0.815       0.001\n",
       "progresa         -2.8250      0.527     -5.358      0.000      -3.858      -1.792\n",
       "year              0.0251      0.004      5.866      0.000       0.017       0.033\n",
       "progresa:year     0.0292      0.005      5.390      0.000       0.019       0.040\n",
       "sex               0.0367      0.003     14.006      0.000       0.032       0.042\n",
       "indig             0.0317      0.003      9.854      0.000       0.025       0.038\n",
       "dist_sec         -0.0065      0.001    -10.589      0.000      -0.008      -0.005\n",
       "grc               0.0486      0.001     48.071      0.000       0.047       0.051\n",
       "fam_n             0.0009      0.001      1.505      0.132      -0.000       0.002\n",
       "min_dist          0.0003   4.31e-05      7.579      0.000       0.000       0.000\n",
       "dist_cap          0.0002   2.51e-05      7.329      0.000       0.000       0.000\n",
       "poor             -0.4068      0.208     -1.954      0.051      -0.815       0.001\n",
       "hohedu            0.0037      0.001      6.225      0.000       0.003       0.005\n",
       "hohwag          4.95e-07    1.9e-06      0.260      0.795   -3.24e-06    4.23e-06\n",
       "welfare_index -1.631e-05   1.24e-05     -1.318      0.188   -4.06e-05    7.95e-06\n",
       "hohsex           -0.0017      0.005     -0.324      0.746      -0.012       0.008\n",
       "hohage        -4.707e-05      0.000     -0.354      0.723      -0.000       0.000\n",
       "age              -0.0983      0.001   -120.910      0.000      -0.100      -0.097\n",
       "==============================================================================\n",
       "Omnibus:                     6083.138   Durbin-Watson:                   1.514\n",
       "Prob(Omnibus):                  0.000   Jarque-Bera (JB):             8175.414\n",
       "Skew:                          -0.887   Prob(JB):                         0.00\n",
       "Kurtosis:                       3.488   Cond. No.                     6.96e+18\n",
       "==============================================================================\n",
       "\n",
       "Warnings:\n",
       "[1] Standard Errors assume that the covariance matrix of the errors is correctly specified.\n",
       "[2] The smallest eigenvalue is 1.29e-27. This might indicate that there are\n",
       "strong multicollinearity problems or that the design matrix is singular.\n",
       "\"\"\""
      ]
     },
     "execution_count": 91,
     "metadata": {},
     "output_type": "execute_result"
    }
   ],
   "source": [
    "#We would fit a multiple regression model for schooling rate dependent on the interaction of progresa and year; including other variables\n",
    "\n",
    "did_multiple = smf.ols(formula = 'sc ~ progresa*year+sex+indig+ dist_sec+ grc+fam_n+min_dist+dist_cap+poor+progresa+ hohedu + hohwag + welfare_index+ hohsex+ hohage+ age', data= dif_in_dif)\n",
    "did_multiple_2 = did_multiple.fit()\n",
    "did_multiple_2.summary() \n"
   ]
  },
  {
   "cell_type": "markdown",
   "metadata": {},
   "source": [
    "When we fit the multiple regression model, the coefficient of interaction term of year:progresa has reduced from 0.0313 to 0.0292. It means that the interaction term has less impact in presence of other variables."
   ]
  },
  {
   "cell_type": "markdown",
   "metadata": {},
   "source": [
    "***Q2.3.4 - Finally, as above, compare your three estimators. What do you find? Are the effects statistically significant?***"
   ]
  },
  {
   "cell_type": "markdown",
   "metadata": {},
   "source": [
    "We do 4 way comparisons in difference in difference estimators.\n",
    "In 2.3.1) we had initially applied filter to get only poor households. Those poor households with progresa = 1 is our treatment group. Those households with progresa = 0 is our control group. We grouped by progresa and year; then took mean sc for 1997 and 1998. This gave us a table for schooling rates for treatment and control groups in 1997 in 1998.\n",
    "We took out the difference of schooling rates of treatment and control groups in 1997 and 1998. We subtracted it to get difference in difference estimator which was 0.0313"
   ]
  },
  {
   "cell_type": "markdown",
   "metadata": {},
   "source": [
    "In 2.3.2 we did a simple .linear regression of sc over the interaction of year and progresa. We found the interaction term of progresa and year to be statistically significant. The coefficient of the interaction effect was 0.0313 which is equal to the difference in difference we got in 2.3.1"
   ]
  },
  {
   "cell_type": "markdown",
   "metadata": {},
   "source": [
    "In 2.3.3 we did a multiple regression of sc over the interaction of progresa and year, and also added the other variables.\n",
    "We find the following terms statistically significant: interaction term of progresa and year, progresa,year,progresa:year,sex,indig,dist_sec,grc,min_dist,dist_cap,poor,hohedu,age.\n",
    "The coefficient of interaction term of year and progresa reduced to 0.0292. It means that the other variables are reducing the treatment effect over time"
   ]
  },
  {
   "cell_type": "markdown",
   "metadata": {},
   "source": [
    "**Q2.4 Now you have used three estimators to assess the effect of Progresa program.**"
   ]
  },
  {
   "cell_type": "markdown",
   "metadata": {},
   "source": [
    "***Q2.4.1 List the identifying assumptions (counterfactual assumptions) behind all three models. Which ones do you find more/less plausible?***"
   ]
  },
  {
   "cell_type": "markdown",
   "metadata": {},
   "source": [
    "In the before after estimator, we compare only the treatment group before and after the treatment. Our underlying assumption is that the error terms or outside influence should not change with time, which means there should be no unobserved trend. So if there is an increase in enrollment between 1997 and 1998 it is because of treatment alone. This cannot be correct unless there is no time differences without treatment. However, it is not plausible as even if we were not doing any experiment, the schooling rate of children differs over time becuase of external of family reasons."
   ]
  },
  {
   "cell_type": "markdown",
   "metadata": {},
   "source": [
    "In the cross section estimator, we try to infer the average difference in outcomes between treated and non-treated individuals is due to the treatment, and only due to the treatment. So we measured in 1998(after) the difference of schoolng rates between treatment and control groups. The condition of mean independence is the underlying assumption. It means that the error term or mean effect of outside factors is the same for treated and non treated groups. I do not think it is fully plausible because households in different gropus would have gone through several different conditions. However randomisation helps to make this assumption stronger."
   ]
  },
  {
   "cell_type": "markdown",
   "metadata": {},
   "source": [
    "Difference in Difference compares the time trend for the treated group and nontreated group, or what amounts to the same, it compares treated-nontreated differences before and after the treatment. The underlying assumption is that without the treatment(progresa) experiment, the change in schooling rates of treatment and control groups would have been equal. It is difficult to assume it is fully true as we do not know how correctly was the data collected and how different different familoes would have gone through different situations. However randomisation would help to make this assumption stronger."
   ]
  },
  {
   "cell_type": "markdown",
   "metadata": {},
   "source": [
    "***Q2.4.2 Compare the estimates of all three models. Do your analysis suggest that progresa program\n",
    "had a positive impact on schooling rates?***"
   ]
  },
  {
   "cell_type": "markdown",
   "metadata": {},
   "source": [
    "We did before after test to compare the treated before the treatment and after the treatment. We found that the mean schooling rate in treatment group had increased from 1997 to 1998. Our linear regression models also told that year was statistically significant. The coefficient for year was 0.02378 in simple linear regression and 0.0530 in multiple linear egression.This means that the schooling rate did actually increase obver time in the treatment group. This told how the schooling rate in treated group would change with the change in time only because of treatment."
   ]
  },
  {
   "cell_type": "markdown",
   "metadata": {},
   "source": [
    "We did cross section to find the average difference in outcomes between treated and non-treated individuals is due to the treatment, and only due to the treatment. We found that the average schooling rate in treatment group was higher than control group. The coefficient of progresa in simple linear regression was 0.0388 and multiple linear regression was 0.0319. The progressa variable was also statistically significant. This tells how the schooling rate was different between the treated and control groups."
   ]
  },
  {
   "cell_type": "markdown",
   "metadata": {},
   "source": [
    "We then did the difference in difference test. We found the difference of schooling rate of treated and control groups in 1997. We also found the difference in schooling rate of treated and control groups in 1998. We the took the difference of these differences and found that the schooling rtae was higher in treated groups. We did simple and multiple linear regressions and that also told that the interaction term of progresa and year was statisticaly significant."
   ]
  },
  {
   "cell_type": "markdown",
   "metadata": {},
   "source": [
    "All of these tests tell that the Progresa program was a success and the schooling rate in treated village was higher than non treated group."
   ]
  },
  {
   "cell_type": "code",
   "execution_count": null,
   "metadata": {},
   "outputs": [],
   "source": []
  }
 ],
 "metadata": {
  "kernelspec": {
   "display_name": "Python 3",
   "language": "python",
   "name": "python3"
  },
  "language_info": {
   "codemirror_mode": {
    "name": "ipython",
    "version": 3
   },
   "file_extension": ".py",
   "mimetype": "text/x-python",
   "name": "python",
   "nbconvert_exporter": "python",
   "pygments_lexer": "ipython3",
   "version": "3.7.3"
  }
 },
 "nbformat": 4,
 "nbformat_minor": 2
}
